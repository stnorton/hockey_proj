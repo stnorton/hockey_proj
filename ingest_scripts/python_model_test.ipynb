{
 "cells": [
  {
   "cell_type": "code",
   "execution_count": 1,
   "id": "c787ebcd-5a85-487d-bc35-51cd0b2b6f39",
   "metadata": {},
   "outputs": [
    {
     "name": "stdout",
     "output_type": "stream",
     "text": [
      "Running on PyMC v5.10.4\n"
     ]
    }
   ],
   "source": [
    "import arviz as az\n",
    "import matplotlib.pyplot as plt\n",
    "import numpy as np\n",
    "import pymc as pm\n",
    "import pytensor.tensor as pt\n",
    "import polars as pl\n",
    "print(f\"Running on PyMC v{pm.__version__}\")\n",
    "RANDOM_SEED = 8927\n",
    "rng = np.random.default_rng(RANDOM_SEED)\n",
    "az.style.use(\"arviz-darkgrid\")\n"
   ]
  },
  {
   "cell_type": "code",
   "execution_count": 2,
   "id": "30a3959b-47a1-42cb-8f9f-4ffe0d08cf9d",
   "metadata": {},
   "outputs": [],
   "source": [
    "##READ IN\n",
    "df=pl.read_csv('goalie_df.csv', null_values = 'NA')"
   ]
  },
  {
   "cell_type": "code",
   "execution_count": 11,
   "id": "47828e47-a816-49ee-ad1c-b277371c03db",
   "metadata": {},
   "outputs": [
    {
     "data": {
      "text/html": [
       "<div><style>\n",
       ".dataframe > thead > tr,\n",
       ".dataframe > tbody > tr {\n",
       "  text-align: right;\n",
       "  white-space: pre-wrap;\n",
       "}\n",
       "</style>\n",
       "<small>shape: (5, 7)</small><table border=\"1\" class=\"dataframe\"><thead><tr><th></th><th>event_type</th><th>xg</th><th>secondary_type</th><th>event_goalie_id</th><th>goal</th><th>goalie_id_stan</th></tr><tr><td>i64</td><td>str</td><td>f64</td><td>str</td><td>i64</td><td>i64</td><td>i64</td></tr></thead><tbody><tr><td>7</td><td>&quot;SHOT&quot;</td><td>-0.367581</td><td>&quot;wrist&quot;</td><td>8477424</td><td>0</td><td>33</td></tr><tr><td>8</td><td>&quot;SHOT&quot;</td><td>0.914102</td><td>&quot;tip-in&quot;</td><td>8477424</td><td>0</td><td>33</td></tr><tr><td>10</td><td>&quot;SHOT&quot;</td><td>-0.387941</td><td>&quot;snap&quot;</td><td>8477424</td><td>0</td><td>33</td></tr><tr><td>16</td><td>&quot;SHOT&quot;</td><td>-0.384078</td><td>&quot;wrist&quot;</td><td>8477424</td><td>0</td><td>33</td></tr><tr><td>28</td><td>&quot;SHOT&quot;</td><td>-0.349418</td><td>&quot;snap&quot;</td><td>8477992</td><td>0</td><td>41</td></tr></tbody></table></div>"
      ],
      "text/plain": [
       "shape: (5, 7)\n",
       "┌─────┬────────────┬───────────┬────────────────┬─────────────────┬──────┬────────────────┐\n",
       "│     ┆ event_type ┆ xg        ┆ secondary_type ┆ event_goalie_id ┆ goal ┆ goalie_id_stan │\n",
       "│ --- ┆ ---        ┆ ---       ┆ ---            ┆ ---             ┆ ---  ┆ ---            │\n",
       "│ i64 ┆ str        ┆ f64       ┆ str            ┆ i64             ┆ i64  ┆ i64            │\n",
       "╞═════╪════════════╪═══════════╪════════════════╪═════════════════╪══════╪════════════════╡\n",
       "│ 7   ┆ SHOT       ┆ -0.367581 ┆ wrist          ┆ 8477424         ┆ 0    ┆ 33             │\n",
       "│ 8   ┆ SHOT       ┆ 0.914102  ┆ tip-in         ┆ 8477424         ┆ 0    ┆ 33             │\n",
       "│ 10  ┆ SHOT       ┆ -0.387941 ┆ snap           ┆ 8477424         ┆ 0    ┆ 33             │\n",
       "│ 16  ┆ SHOT       ┆ -0.384078 ┆ wrist          ┆ 8477424         ┆ 0    ┆ 33             │\n",
       "│ 28  ┆ SHOT       ┆ -0.349418 ┆ snap           ┆ 8477992         ┆ 0    ┆ 41             │\n",
       "└─────┴────────────┴───────────┴────────────────┴─────────────────┴──────┴────────────────┘"
      ]
     },
     "execution_count": 11,
     "metadata": {},
     "output_type": "execute_result"
    }
   ],
   "source": [
    "df.head()"
   ]
  },
  {
   "cell_type": "code",
   "execution_count": 3,
   "id": "d991b134-08c4-492e-bbd5-6bab687faf10",
   "metadata": {},
   "outputs": [],
   "source": [
    "#convert shot type to one hot encoding\n",
    "shot_df = df.select('secondary_type').to_dummies()"
   ]
  },
  {
   "cell_type": "code",
   "execution_count": 4,
   "id": "00eb7352-b446-4105-9208-b1636eaf1103",
   "metadata": {},
   "outputs": [],
   "source": [
    "#add intercept\n",
    "ones_df = pl.DataFrame({\"ones\": [1] * df.height})\n",
    "shot_df = pl.concat([ones_df, shot_df], how = 'horizontal')"
   ]
  },
  {
   "cell_type": "code",
   "execution_count": 25,
   "id": "efd31782-bb52-4da8-8c38-b1deec8a3a2c",
   "metadata": {},
   "outputs": [
    {
     "data": {
      "text/html": [
       "<div><style>\n",
       ".dataframe > thead > tr,\n",
       ".dataframe > tbody > tr {\n",
       "  text-align: right;\n",
       "  white-space: pre-wrap;\n",
       "}\n",
       "</style>\n",
       "<small>shape: (5, 12)</small><table border=\"1\" class=\"dataframe\"><thead><tr><th>ones</th><th>secondary_type_backhand</th><th>secondary_type_bat</th><th>secondary_type_between-legs</th><th>secondary_type_cradle</th><th>secondary_type_deflected</th><th>secondary_type_poke</th><th>secondary_type_slap</th><th>secondary_type_snap</th><th>secondary_type_tip-in</th><th>secondary_type_wrap-around</th><th>secondary_type_wrist</th></tr><tr><td>i64</td><td>u8</td><td>u8</td><td>u8</td><td>u8</td><td>u8</td><td>u8</td><td>u8</td><td>u8</td><td>u8</td><td>u8</td><td>u8</td></tr></thead><tbody><tr><td>1</td><td>0</td><td>0</td><td>0</td><td>0</td><td>0</td><td>0</td><td>0</td><td>0</td><td>0</td><td>0</td><td>1</td></tr><tr><td>1</td><td>0</td><td>0</td><td>0</td><td>0</td><td>0</td><td>0</td><td>0</td><td>0</td><td>1</td><td>0</td><td>0</td></tr><tr><td>1</td><td>0</td><td>0</td><td>0</td><td>0</td><td>0</td><td>0</td><td>0</td><td>1</td><td>0</td><td>0</td><td>0</td></tr><tr><td>1</td><td>0</td><td>0</td><td>0</td><td>0</td><td>0</td><td>0</td><td>0</td><td>0</td><td>0</td><td>0</td><td>1</td></tr><tr><td>1</td><td>0</td><td>0</td><td>0</td><td>0</td><td>0</td><td>0</td><td>0</td><td>1</td><td>0</td><td>0</td><td>0</td></tr></tbody></table></div>"
      ],
      "text/plain": [
       "shape: (5, 12)\n",
       "┌──────┬────────────┬────────────┬────────────┬───┬────────────┬───────────┬───────────┬───────────┐\n",
       "│ ones ┆ secondary_ ┆ secondary_ ┆ secondary_ ┆ … ┆ secondary_ ┆ secondary ┆ secondary ┆ secondary │\n",
       "│ ---  ┆ type_backh ┆ type_bat   ┆ type_betwe ┆   ┆ type_snap  ┆ _type_tip ┆ _type_wra ┆ _type_wri │\n",
       "│ i64  ┆ and        ┆ ---        ┆ en-legs    ┆   ┆ ---        ┆ -in       ┆ p-around  ┆ st        │\n",
       "│      ┆ ---        ┆ u8         ┆ ---        ┆   ┆ u8         ┆ ---       ┆ ---       ┆ ---       │\n",
       "│      ┆ u8         ┆            ┆ u8         ┆   ┆            ┆ u8        ┆ u8        ┆ u8        │\n",
       "╞══════╪════════════╪════════════╪════════════╪═══╪════════════╪═══════════╪═══════════╪═══════════╡\n",
       "│ 1    ┆ 0          ┆ 0          ┆ 0          ┆ … ┆ 0          ┆ 0         ┆ 0         ┆ 1         │\n",
       "│ 1    ┆ 0          ┆ 0          ┆ 0          ┆ … ┆ 0          ┆ 1         ┆ 0         ┆ 0         │\n",
       "│ 1    ┆ 0          ┆ 0          ┆ 0          ┆ … ┆ 1          ┆ 0         ┆ 0         ┆ 0         │\n",
       "│ 1    ┆ 0          ┆ 0          ┆ 0          ┆ … ┆ 0          ┆ 0         ┆ 0         ┆ 1         │\n",
       "│ 1    ┆ 0          ┆ 0          ┆ 0          ┆ … ┆ 1          ┆ 0         ┆ 0         ┆ 0         │\n",
       "└──────┴────────────┴────────────┴────────────┴───┴────────────┴───────────┴───────────┴───────────┘"
      ]
     },
     "execution_count": 25,
     "metadata": {},
     "output_type": "execute_result"
    }
   ],
   "source": [
    "shot_df.head()"
   ]
  },
  {
   "cell_type": "code",
   "execution_count": 27,
   "id": "78f82c18-eda7-4fdc-9b3b-17c2782f0358",
   "metadata": {},
   "outputs": [
    {
     "data": {
      "text/plain": [
       "12"
      ]
     },
     "execution_count": 27,
     "metadata": {},
     "output_type": "execute_result"
    }
   ],
   "source": [
    "shot_df.width"
   ]
  },
  {
   "cell_type": "code",
   "execution_count": 5,
   "id": "84b95737-598c-43cd-8dae-8077db714469",
   "metadata": {},
   "outputs": [],
   "source": [
    "# Data\n",
    "J = df['goalie_id_stan'].n_unique()\n",
    "N = df.height  # number of shots\n",
    "B = shot_df.width  # number of predictors for the hierarchical prior on beta (including intercept)\n",
    "S = np.array(shot_df)  # matrix of shot characteristics for hierarchical prior on beta\n",
    "jj = df['goalie_id_stan']  # goalie for observation n\n",
    "y = df['goal']  # correctness for observation n\n",
    "\n"
   ]
  },
  {
   "cell_type": "code",
   "execution_count": null,
   "id": "e4663e1e-d0ed-439c-bcad-5897f82877fc",
   "metadata": {},
   "outputs": [],
   "source": []
  },
  {
   "cell_type": "code",
   "execution_count": 7,
   "id": "68c9dd9f-1eeb-4ec5-a6ea-9d9cdcc0ae40",
   "metadata": {},
   "outputs": [
    {
     "ename": "KeyboardInterrupt",
     "evalue": "",
     "output_type": "error",
     "traceback": [
      "\u001b[0;31m---------------------------------------------------------------------------\u001b[0m",
      "\u001b[0;31mKeyboardInterrupt\u001b[0m                         Traceback (most recent call last)",
      "Cell \u001b[0;32mIn[7], line 20\u001b[0m\n\u001b[1;32m     17\u001b[0m     pm\u001b[38;5;241m.\u001b[39mBernoulli(\u001b[38;5;124mf\u001b[39m\u001b[38;5;124m'\u001b[39m\u001b[38;5;124my_\u001b[39m\u001b[38;5;132;01m{\u001b[39;00mn\u001b[38;5;132;01m}\u001b[39;00m\u001b[38;5;124m'\u001b[39m, p\u001b[38;5;241m=\u001b[39mp, observed\u001b[38;5;241m=\u001b[39my[n])\n\u001b[1;32m     19\u001b[0m   \u001b[38;5;66;03m# Sample\u001b[39;00m\n\u001b[0;32m---> 20\u001b[0m trace \u001b[38;5;241m=\u001b[39m \u001b[43mpm\u001b[49m\u001b[38;5;241;43m.\u001b[39;49m\u001b[43msample\u001b[49m\u001b[43m(\u001b[49m\u001b[43mdraws\u001b[49m\u001b[43m \u001b[49m\u001b[38;5;241;43m=\u001b[39;49m\u001b[43m \u001b[49m\u001b[38;5;241;43m500\u001b[39;49m\u001b[43m,\u001b[49m\u001b[43m \u001b[49m\u001b[43mcores\u001b[49m\u001b[38;5;241;43m=\u001b[39;49m\u001b[38;5;241;43m1\u001b[39;49m\u001b[43m)\u001b[49m\n",
      "File \u001b[0;32m~/miniconda3/envs/pymc_env/lib/python3.11/site-packages/pymc/sampling/mcmc.py:682\u001b[0m, in \u001b[0;36msample\u001b[0;34m(draws, tune, chains, cores, random_seed, progressbar, step, nuts_sampler, initvals, init, jitter_max_retries, n_init, trace, discard_tuned_samples, compute_convergence_checks, keep_warning_stat, return_inferencedata, idata_kwargs, nuts_sampler_kwargs, callback, mp_ctx, model, **kwargs)\u001b[0m\n\u001b[1;32m    679\u001b[0m         auto_nuts_init \u001b[38;5;241m=\u001b[39m \u001b[38;5;28;01mFalse\u001b[39;00m\n\u001b[1;32m    681\u001b[0m initial_points \u001b[38;5;241m=\u001b[39m \u001b[38;5;28;01mNone\u001b[39;00m\n\u001b[0;32m--> 682\u001b[0m step \u001b[38;5;241m=\u001b[39m \u001b[43massign_step_methods\u001b[49m\u001b[43m(\u001b[49m\u001b[43mmodel\u001b[49m\u001b[43m,\u001b[49m\u001b[43m \u001b[49m\u001b[43mstep\u001b[49m\u001b[43m,\u001b[49m\u001b[43m \u001b[49m\u001b[43mmethods\u001b[49m\u001b[38;5;241;43m=\u001b[39;49m\u001b[43mpm\u001b[49m\u001b[38;5;241;43m.\u001b[39;49m\u001b[43mSTEP_METHODS\u001b[49m\u001b[43m,\u001b[49m\u001b[43m \u001b[49m\u001b[43mstep_kwargs\u001b[49m\u001b[38;5;241;43m=\u001b[39;49m\u001b[43mkwargs\u001b[49m\u001b[43m)\u001b[49m\n\u001b[1;32m    684\u001b[0m \u001b[38;5;28;01mif\u001b[39;00m nuts_sampler \u001b[38;5;241m!=\u001b[39m \u001b[38;5;124m\"\u001b[39m\u001b[38;5;124mpymc\u001b[39m\u001b[38;5;124m\"\u001b[39m:\n\u001b[1;32m    685\u001b[0m     \u001b[38;5;28;01mif\u001b[39;00m \u001b[38;5;129;01mnot\u001b[39;00m \u001b[38;5;28misinstance\u001b[39m(step, NUTS):\n",
      "File \u001b[0;32m~/miniconda3/envs/pymc_env/lib/python3.11/site-packages/pymc/sampling/mcmc.py:210\u001b[0m, in \u001b[0;36massign_step_methods\u001b[0;34m(model, step, methods, step_kwargs)\u001b[0m\n\u001b[1;32m    208\u001b[0m methods_list: \u001b[38;5;28mlist\u001b[39m[\u001b[38;5;28mtype\u001b[39m[BlockedStep]] \u001b[38;5;241m=\u001b[39m \u001b[38;5;28mlist\u001b[39m(methods \u001b[38;5;129;01mor\u001b[39;00m pm\u001b[38;5;241m.\u001b[39mSTEP_METHODS)\n\u001b[1;32m    209\u001b[0m selected_steps: \u001b[38;5;28mdict\u001b[39m[\u001b[38;5;28mtype\u001b[39m[BlockedStep], \u001b[38;5;28mlist\u001b[39m] \u001b[38;5;241m=\u001b[39m {}\n\u001b[0;32m--> 210\u001b[0m model_logp \u001b[38;5;241m=\u001b[39m \u001b[43mmodel\u001b[49m\u001b[38;5;241;43m.\u001b[39;49m\u001b[43mlogp\u001b[49m\u001b[43m(\u001b[49m\u001b[43m)\u001b[49m\n\u001b[1;32m    212\u001b[0m \u001b[38;5;28;01mfor\u001b[39;00m var \u001b[38;5;129;01min\u001b[39;00m model\u001b[38;5;241m.\u001b[39mvalue_vars:\n\u001b[1;32m    213\u001b[0m     \u001b[38;5;28;01mif\u001b[39;00m var \u001b[38;5;129;01mnot\u001b[39;00m \u001b[38;5;129;01min\u001b[39;00m assigned_vars:\n\u001b[1;32m    214\u001b[0m         \u001b[38;5;66;03m# determine if a gradient can be computed\u001b[39;00m\n",
      "File \u001b[0;32m~/miniconda3/envs/pymc_env/lib/python3.11/site-packages/pymc/model/core.py:719\u001b[0m, in \u001b[0;36mModel.logp\u001b[0;34m(self, vars, jacobian, sum)\u001b[0m\n\u001b[1;32m    717\u001b[0m rv_logps: \u001b[38;5;28mlist\u001b[39m[TensorVariable] \u001b[38;5;241m=\u001b[39m []\n\u001b[1;32m    718\u001b[0m \u001b[38;5;28;01mif\u001b[39;00m rvs:\n\u001b[0;32m--> 719\u001b[0m     rv_logps \u001b[38;5;241m=\u001b[39m \u001b[43mtransformed_conditional_logp\u001b[49m\u001b[43m(\u001b[49m\n\u001b[1;32m    720\u001b[0m \u001b[43m        \u001b[49m\u001b[43mrvs\u001b[49m\u001b[38;5;241;43m=\u001b[39;49m\u001b[43mrvs\u001b[49m\u001b[43m,\u001b[49m\n\u001b[1;32m    721\u001b[0m \u001b[43m        \u001b[49m\u001b[43mrvs_to_values\u001b[49m\u001b[38;5;241;43m=\u001b[39;49m\u001b[38;5;28;43mself\u001b[39;49m\u001b[38;5;241;43m.\u001b[39;49m\u001b[43mrvs_to_values\u001b[49m\u001b[43m,\u001b[49m\n\u001b[1;32m    722\u001b[0m \u001b[43m        \u001b[49m\u001b[43mrvs_to_transforms\u001b[49m\u001b[38;5;241;43m=\u001b[39;49m\u001b[38;5;28;43mself\u001b[39;49m\u001b[38;5;241;43m.\u001b[39;49m\u001b[43mrvs_to_transforms\u001b[49m\u001b[43m,\u001b[49m\n\u001b[1;32m    723\u001b[0m \u001b[43m        \u001b[49m\u001b[43mjacobian\u001b[49m\u001b[38;5;241;43m=\u001b[39;49m\u001b[43mjacobian\u001b[49m\u001b[43m,\u001b[49m\n\u001b[1;32m    724\u001b[0m \u001b[43m    \u001b[49m\u001b[43m)\u001b[49m\n\u001b[1;32m    725\u001b[0m     \u001b[38;5;28;01massert\u001b[39;00m \u001b[38;5;28misinstance\u001b[39m(rv_logps, \u001b[38;5;28mlist\u001b[39m)\n\u001b[1;32m    727\u001b[0m \u001b[38;5;66;03m# Replace random variables by their value variables in potential terms\u001b[39;00m\n",
      "File \u001b[0;32m~/miniconda3/envs/pymc_env/lib/python3.11/site-packages/pymc/logprob/basic.py:612\u001b[0m, in \u001b[0;36mtransformed_conditional_logp\u001b[0;34m(rvs, rvs_to_values, rvs_to_transforms, jacobian, **kwargs)\u001b[0m\n\u001b[1;32m    609\u001b[0m     transform_rewrite \u001b[38;5;241m=\u001b[39m TransformValuesRewrite(values_to_transforms)  \u001b[38;5;66;03m# type: ignore\u001b[39;00m\n\u001b[1;32m    611\u001b[0m kwargs\u001b[38;5;241m.\u001b[39msetdefault(\u001b[38;5;124m\"\u001b[39m\u001b[38;5;124mwarn_rvs\u001b[39m\u001b[38;5;124m\"\u001b[39m, \u001b[38;5;28;01mFalse\u001b[39;00m)\n\u001b[0;32m--> 612\u001b[0m temp_logp_terms \u001b[38;5;241m=\u001b[39m \u001b[43mconditional_logp\u001b[49m\u001b[43m(\u001b[49m\n\u001b[1;32m    613\u001b[0m \u001b[43m    \u001b[49m\u001b[43mrvs_to_values\u001b[49m\u001b[43m,\u001b[49m\n\u001b[1;32m    614\u001b[0m \u001b[43m    \u001b[49m\u001b[43mextra_rewrites\u001b[49m\u001b[38;5;241;43m=\u001b[39;49m\u001b[43mtransform_rewrite\u001b[49m\u001b[43m,\u001b[49m\n\u001b[1;32m    615\u001b[0m \u001b[43m    \u001b[49m\u001b[43muse_jacobian\u001b[49m\u001b[38;5;241;43m=\u001b[39;49m\u001b[43mjacobian\u001b[49m\u001b[43m,\u001b[49m\n\u001b[1;32m    616\u001b[0m \u001b[43m    \u001b[49m\u001b[38;5;241;43m*\u001b[39;49m\u001b[38;5;241;43m*\u001b[39;49m\u001b[43mkwargs\u001b[49m\u001b[43m,\u001b[49m\n\u001b[1;32m    617\u001b[0m \u001b[43m\u001b[49m\u001b[43m)\u001b[49m\n\u001b[1;32m    619\u001b[0m \u001b[38;5;66;03m# The function returns the logp for every single value term we provided to it.\u001b[39;00m\n\u001b[1;32m    620\u001b[0m \u001b[38;5;66;03m# This includes the extra values we plugged in above, so we filter those we\u001b[39;00m\n\u001b[1;32m    621\u001b[0m \u001b[38;5;66;03m# actually wanted in the same order they were given in.\u001b[39;00m\n\u001b[1;32m    622\u001b[0m logp_terms \u001b[38;5;241m=\u001b[39m {}\n",
      "File \u001b[0;32m~/miniconda3/envs/pymc_env/lib/python3.11/site-packages/pymc/logprob/basic.py:480\u001b[0m, in \u001b[0;36mconditional_logp\u001b[0;34m(rv_values, warn_rvs, ir_rewriter, extra_rewrites, **kwargs)\u001b[0m\n\u001b[1;32m    417\u001b[0m \u001b[38;5;250m\u001b[39m\u001b[38;5;124mr\u001b[39m\u001b[38;5;124;03m\"\"\"Create a map between variables and conditional log-probabilities\u001b[39;00m\n\u001b[1;32m    418\u001b[0m \u001b[38;5;124;03msuch that the sum is their joint log-probability.\u001b[39;00m\n\u001b[1;32m    419\u001b[0m \n\u001b[0;32m   (...)\u001b[0m\n\u001b[1;32m    476\u001b[0m \n\u001b[1;32m    477\u001b[0m \u001b[38;5;124;03m\"\"\"\u001b[39;00m\n\u001b[1;32m    478\u001b[0m warn_rvs, kwargs \u001b[38;5;241m=\u001b[39m _deprecate_warn_missing_rvs(warn_rvs, kwargs)\n\u001b[0;32m--> 480\u001b[0m fgraph, rv_values, _ \u001b[38;5;241m=\u001b[39m \u001b[43mconstruct_ir_fgraph\u001b[49m\u001b[43m(\u001b[49m\u001b[43mrv_values\u001b[49m\u001b[43m,\u001b[49m\u001b[43m \u001b[49m\u001b[43mir_rewriter\u001b[49m\u001b[38;5;241;43m=\u001b[39;49m\u001b[43mir_rewriter\u001b[49m\u001b[43m)\u001b[49m\n\u001b[1;32m    482\u001b[0m \u001b[38;5;28;01mif\u001b[39;00m extra_rewrites \u001b[38;5;129;01mis\u001b[39;00m \u001b[38;5;129;01mnot\u001b[39;00m \u001b[38;5;28;01mNone\u001b[39;00m:\n\u001b[1;32m    483\u001b[0m     extra_rewrites\u001b[38;5;241m.\u001b[39mrewrite(fgraph)\n",
      "File \u001b[0;32m~/miniconda3/envs/pymc_env/lib/python3.11/site-packages/pymc/logprob/rewriting.py:472\u001b[0m, in \u001b[0;36mconstruct_ir_fgraph\u001b[0;34m(rv_values, ir_rewriter)\u001b[0m\n\u001b[1;32m    470\u001b[0m \u001b[38;5;28;01mif\u001b[39;00m ir_rewriter \u001b[38;5;129;01mis\u001b[39;00m \u001b[38;5;28;01mNone\u001b[39;00m:\n\u001b[1;32m    471\u001b[0m     ir_rewriter \u001b[38;5;241m=\u001b[39m logprob_rewrites_db\u001b[38;5;241m.\u001b[39mquery(RewriteDatabaseQuery(include\u001b[38;5;241m=\u001b[39m[\u001b[38;5;124m\"\u001b[39m\u001b[38;5;124mbasic\u001b[39m\u001b[38;5;124m\"\u001b[39m]))\n\u001b[0;32m--> 472\u001b[0m \u001b[43mir_rewriter\u001b[49m\u001b[38;5;241;43m.\u001b[39;49m\u001b[43mrewrite\u001b[49m\u001b[43m(\u001b[49m\u001b[43mfgraph\u001b[49m\u001b[43m)\u001b[49m\n\u001b[1;32m    474\u001b[0m \u001b[38;5;28;01mreturn\u001b[39;00m fgraph, rv_values, memo\n",
      "File \u001b[0;32m~/miniconda3/envs/pymc_env/lib/python3.11/site-packages/pytensor/graph/rewriting/basic.py:121\u001b[0m, in \u001b[0;36mGraphRewriter.rewrite\u001b[0;34m(self, fgraph, *args, **kwargs)\u001b[0m\n\u001b[1;32m    112\u001b[0m \u001b[38;5;250m\u001b[39m\u001b[38;5;124;03m\"\"\"\u001b[39;00m\n\u001b[1;32m    113\u001b[0m \n\u001b[1;32m    114\u001b[0m \u001b[38;5;124;03mThis is meant as a shortcut for the following::\u001b[39;00m\n\u001b[0;32m   (...)\u001b[0m\n\u001b[1;32m    118\u001b[0m \n\u001b[1;32m    119\u001b[0m \u001b[38;5;124;03m\"\"\"\u001b[39;00m\n\u001b[1;32m    120\u001b[0m \u001b[38;5;28mself\u001b[39m\u001b[38;5;241m.\u001b[39madd_requirements(fgraph)\n\u001b[0;32m--> 121\u001b[0m \u001b[38;5;28;01mreturn\u001b[39;00m \u001b[38;5;28;43mself\u001b[39;49m\u001b[38;5;241;43m.\u001b[39;49m\u001b[43mapply\u001b[49m\u001b[43m(\u001b[49m\u001b[43mfgraph\u001b[49m\u001b[43m,\u001b[49m\u001b[43m \u001b[49m\u001b[38;5;241;43m*\u001b[39;49m\u001b[43margs\u001b[49m\u001b[43m,\u001b[49m\u001b[43m \u001b[49m\u001b[38;5;241;43m*\u001b[39;49m\u001b[38;5;241;43m*\u001b[39;49m\u001b[43mkwargs\u001b[49m\u001b[43m)\u001b[49m\n",
      "File \u001b[0;32m~/miniconda3/envs/pymc_env/lib/python3.11/site-packages/pytensor/graph/rewriting/basic.py:292\u001b[0m, in \u001b[0;36mSequentialGraphRewriter.apply\u001b[0;34m(self, fgraph)\u001b[0m\n\u001b[1;32m    290\u001b[0m nb_nodes_before \u001b[38;5;241m=\u001b[39m \u001b[38;5;28mlen\u001b[39m(fgraph\u001b[38;5;241m.\u001b[39mapply_nodes)\n\u001b[1;32m    291\u001b[0m t0 \u001b[38;5;241m=\u001b[39m time\u001b[38;5;241m.\u001b[39mperf_counter()\n\u001b[0;32m--> 292\u001b[0m sub_prof \u001b[38;5;241m=\u001b[39m \u001b[43mrewriter\u001b[49m\u001b[38;5;241;43m.\u001b[39;49m\u001b[43mapply\u001b[49m\u001b[43m(\u001b[49m\u001b[43mfgraph\u001b[49m\u001b[43m)\u001b[49m\n\u001b[1;32m    293\u001b[0m l\u001b[38;5;241m.\u001b[39mappend(\u001b[38;5;28mfloat\u001b[39m(time\u001b[38;5;241m.\u001b[39mperf_counter() \u001b[38;5;241m-\u001b[39m t0))\n\u001b[1;32m    294\u001b[0m sub_profs\u001b[38;5;241m.\u001b[39mappend(sub_prof)\n",
      "File \u001b[0;32m~/miniconda3/envs/pymc_env/lib/python3.11/site-packages/pytensor/graph/rewriting/basic.py:292\u001b[0m, in \u001b[0;36mSequentialGraphRewriter.apply\u001b[0;34m(self, fgraph)\u001b[0m\n\u001b[1;32m    290\u001b[0m nb_nodes_before \u001b[38;5;241m=\u001b[39m \u001b[38;5;28mlen\u001b[39m(fgraph\u001b[38;5;241m.\u001b[39mapply_nodes)\n\u001b[1;32m    291\u001b[0m t0 \u001b[38;5;241m=\u001b[39m time\u001b[38;5;241m.\u001b[39mperf_counter()\n\u001b[0;32m--> 292\u001b[0m sub_prof \u001b[38;5;241m=\u001b[39m \u001b[43mrewriter\u001b[49m\u001b[38;5;241;43m.\u001b[39;49m\u001b[43mapply\u001b[49m\u001b[43m(\u001b[49m\u001b[43mfgraph\u001b[49m\u001b[43m)\u001b[49m\n\u001b[1;32m    293\u001b[0m l\u001b[38;5;241m.\u001b[39mappend(\u001b[38;5;28mfloat\u001b[39m(time\u001b[38;5;241m.\u001b[39mperf_counter() \u001b[38;5;241m-\u001b[39m t0))\n\u001b[1;32m    294\u001b[0m sub_profs\u001b[38;5;241m.\u001b[39mappend(sub_prof)\n",
      "File \u001b[0;32m~/miniconda3/envs/pymc_env/lib/python3.11/site-packages/pytensor/graph/rewriting/basic.py:2395\u001b[0m, in \u001b[0;36mEquilibriumGraphRewriter.apply\u001b[0;34m(self, fgraph, start_from)\u001b[0m\n\u001b[1;32m   2391\u001b[0m global_sub_profs\u001b[38;5;241m.\u001b[39mappend(sub_profs)\n\u001b[1;32m   2393\u001b[0m global_rewriter_timing\u001b[38;5;241m.\u001b[39mappend(\u001b[38;5;28mfloat\u001b[39m(time\u001b[38;5;241m.\u001b[39mperf_counter() \u001b[38;5;241m-\u001b[39m t0))\n\u001b[0;32m-> 2395\u001b[0m changed \u001b[38;5;241m|\u001b[39m\u001b[38;5;241m=\u001b[39m \u001b[43mapply_cleanup\u001b[49m\u001b[43m(\u001b[49m\u001b[43miter_cleanup_sub_profs\u001b[49m\u001b[43m)\u001b[49m\n\u001b[1;32m   2397\u001b[0m topo_t0 \u001b[38;5;241m=\u001b[39m time\u001b[38;5;241m.\u001b[39mperf_counter()\n\u001b[1;32m   2398\u001b[0m q \u001b[38;5;241m=\u001b[39m deque(io_toposort(fgraph\u001b[38;5;241m.\u001b[39minputs, start_from))\n",
      "File \u001b[0;32m~/miniconda3/envs/pymc_env/lib/python3.11/site-packages/pytensor/graph/rewriting/basic.py:2352\u001b[0m, in \u001b[0;36mEquilibriumGraphRewriter.apply.<locals>.apply_cleanup\u001b[0;34m(profs_dict)\u001b[0m\n\u001b[1;32m   2350\u001b[0m nb \u001b[38;5;241m=\u001b[39m change_tracker\u001b[38;5;241m.\u001b[39mnb_imported\n\u001b[1;32m   2351\u001b[0m t_rewrite \u001b[38;5;241m=\u001b[39m time\u001b[38;5;241m.\u001b[39mperf_counter()\n\u001b[0;32m-> 2352\u001b[0m sub_prof \u001b[38;5;241m=\u001b[39m \u001b[43mcrewriter\u001b[49m\u001b[38;5;241;43m.\u001b[39;49m\u001b[43mapply\u001b[49m\u001b[43m(\u001b[49m\u001b[43mfgraph\u001b[49m\u001b[43m)\u001b[49m\n\u001b[1;32m   2353\u001b[0m time_rewriters[crewriter] \u001b[38;5;241m+\u001b[39m\u001b[38;5;241m=\u001b[39m time\u001b[38;5;241m.\u001b[39mperf_counter() \u001b[38;5;241m-\u001b[39m t_rewrite\n\u001b[1;32m   2354\u001b[0m profs_dict[crewriter]\u001b[38;5;241m.\u001b[39mappend(sub_prof)\n",
      "File \u001b[0;32m~/miniconda3/envs/pymc_env/lib/python3.11/site-packages/pytensor/graph/rewriting/basic.py:768\u001b[0m, in \u001b[0;36mMergeOptimizer.apply\u001b[0;34m(self, fgraph)\u001b[0m\n\u001b[1;32m    766\u001b[0m         fgraph\u001b[38;5;241m.\u001b[39mreplace_all(pairs, reason\u001b[38;5;241m=\u001b[39m\u001b[38;5;124m\"\u001b[39m\u001b[38;5;124mMergeOptimizer\u001b[39m\u001b[38;5;124m\"\u001b[39m)\n\u001b[1;32m    767\u001b[0m     \u001b[38;5;28;01melse\u001b[39;00m:\n\u001b[0;32m--> 768\u001b[0m         \u001b[43mfgraph\u001b[49m\u001b[38;5;241;43m.\u001b[39;49m\u001b[43mreplace_all_validate\u001b[49m\u001b[43m(\u001b[49m\u001b[43mpairs\u001b[49m\u001b[43m,\u001b[49m\u001b[43m \u001b[49m\u001b[43mreason\u001b[49m\u001b[38;5;241;43m=\u001b[39;49m\u001b[38;5;124;43m\"\u001b[39;49m\u001b[38;5;124;43mMergeOptimizer\u001b[39;49m\u001b[38;5;124;43m\"\u001b[39;49m\u001b[43m)\u001b[49m\n\u001b[1;32m    769\u001b[0m \u001b[38;5;28;01mexcept\u001b[39;00m InconsistencyError:\n\u001b[1;32m    770\u001b[0m     success \u001b[38;5;241m=\u001b[39m \u001b[38;5;28;01mFalse\u001b[39;00m\n",
      "File \u001b[0;32m~/miniconda3/envs/pymc_env/lib/python3.11/site-packages/pytensor/graph/features.py:571\u001b[0m, in \u001b[0;36mReplaceValidate.replace_all_validate\u001b[0;34m(self, fgraph, replacements, reason, verbose, **kwargs)\u001b[0m\n\u001b[1;32m    569\u001b[0m \u001b[38;5;28;01mfor\u001b[39;00m r, new_r \u001b[38;5;129;01min\u001b[39;00m replacements:\n\u001b[1;32m    570\u001b[0m     \u001b[38;5;28;01mtry\u001b[39;00m:\n\u001b[0;32m--> 571\u001b[0m         \u001b[43mfgraph\u001b[49m\u001b[38;5;241;43m.\u001b[39;49m\u001b[43mreplace\u001b[49m\u001b[43m(\u001b[49m\u001b[43mr\u001b[49m\u001b[43m,\u001b[49m\u001b[43m \u001b[49m\u001b[43mnew_r\u001b[49m\u001b[43m,\u001b[49m\u001b[43m \u001b[49m\u001b[43mreason\u001b[49m\u001b[38;5;241;43m=\u001b[39;49m\u001b[43mreason\u001b[49m\u001b[43m,\u001b[49m\u001b[43m \u001b[49m\u001b[43mverbose\u001b[49m\u001b[38;5;241;43m=\u001b[39;49m\u001b[38;5;28;43;01mFalse\u001b[39;49;00m\u001b[43m,\u001b[49m\u001b[43m \u001b[49m\u001b[38;5;241;43m*\u001b[39;49m\u001b[38;5;241;43m*\u001b[39;49m\u001b[43mkwargs\u001b[49m\u001b[43m)\u001b[49m\n\u001b[1;32m    572\u001b[0m     \u001b[38;5;28;01mexcept\u001b[39;00m \u001b[38;5;167;01mException\u001b[39;00m \u001b[38;5;28;01mas\u001b[39;00m e:\n\u001b[1;32m    573\u001b[0m         msg \u001b[38;5;241m=\u001b[39m \u001b[38;5;28mstr\u001b[39m(e)\n",
      "File \u001b[0;32m~/miniconda3/envs/pymc_env/lib/python3.11/site-packages/pytensor/graph/fg.py:508\u001b[0m, in \u001b[0;36mFunctionGraph.replace\u001b[0;34m(self, var, new_var, reason, verbose, import_missing)\u001b[0m\n\u001b[1;32m    501\u001b[0m             \u001b[38;5;28;01mraise\u001b[39;00m \u001b[38;5;167;01mAssertionError\u001b[39;00m(\n\u001b[1;32m    502\u001b[0m                 \u001b[38;5;124m\"\u001b[39m\u001b[38;5;124mThe replacement variable has a test value with \u001b[39m\u001b[38;5;124m\"\u001b[39m\n\u001b[1;32m    503\u001b[0m                 \u001b[38;5;124m\"\u001b[39m\u001b[38;5;124ma shape different from the original variable\u001b[39m\u001b[38;5;124m'\u001b[39m\u001b[38;5;124ms \u001b[39m\u001b[38;5;124m\"\u001b[39m\n\u001b[1;32m    504\u001b[0m                 \u001b[38;5;124mf\u001b[39m\u001b[38;5;124m\"\u001b[39m\u001b[38;5;124mtest value. Original: \u001b[39m\u001b[38;5;132;01m{\u001b[39;00mtval_shape\u001b[38;5;132;01m}\u001b[39;00m\u001b[38;5;124m, new: \u001b[39m\u001b[38;5;132;01m{\u001b[39;00mnew_tval_shape\u001b[38;5;132;01m}\u001b[39;00m\u001b[38;5;124m\"\u001b[39m\n\u001b[1;32m    505\u001b[0m             )\n\u001b[1;32m    507\u001b[0m \u001b[38;5;28;01mfor\u001b[39;00m node, i \u001b[38;5;129;01min\u001b[39;00m \u001b[38;5;28mlist\u001b[39m(\u001b[38;5;28mself\u001b[39m\u001b[38;5;241m.\u001b[39mclients[var]):\n\u001b[0;32m--> 508\u001b[0m     \u001b[38;5;28;43mself\u001b[39;49m\u001b[38;5;241;43m.\u001b[39;49m\u001b[43mchange_node_input\u001b[49m\u001b[43m(\u001b[49m\n\u001b[1;32m    509\u001b[0m \u001b[43m        \u001b[49m\u001b[43mnode\u001b[49m\u001b[43m,\u001b[49m\u001b[43m \u001b[49m\u001b[43mi\u001b[49m\u001b[43m,\u001b[49m\u001b[43m \u001b[49m\u001b[43mnew_var\u001b[49m\u001b[43m,\u001b[49m\u001b[43m \u001b[49m\u001b[43mreason\u001b[49m\u001b[38;5;241;43m=\u001b[39;49m\u001b[43mreason\u001b[49m\u001b[43m,\u001b[49m\u001b[43m \u001b[49m\u001b[43mimport_missing\u001b[49m\u001b[38;5;241;43m=\u001b[39;49m\u001b[43mimport_missing\u001b[49m\n\u001b[1;32m    510\u001b[0m \u001b[43m    \u001b[49m\u001b[43m)\u001b[49m\n",
      "File \u001b[0;32m~/miniconda3/envs/pymc_env/lib/python3.11/site-packages/pytensor/graph/fg.py:439\u001b[0m, in \u001b[0;36mFunctionGraph.change_node_input\u001b[0;34m(self, node, i, new_var, reason, import_missing, check)\u001b[0m\n\u001b[1;32m    437\u001b[0m \u001b[38;5;28mself\u001b[39m\u001b[38;5;241m.\u001b[39mimport_var(new_var, reason\u001b[38;5;241m=\u001b[39mreason, import_missing\u001b[38;5;241m=\u001b[39mimport_missing)\n\u001b[1;32m    438\u001b[0m \u001b[38;5;28mself\u001b[39m\u001b[38;5;241m.\u001b[39madd_client(new_var, (node, i))\n\u001b[0;32m--> 439\u001b[0m \u001b[38;5;28;43mself\u001b[39;49m\u001b[38;5;241;43m.\u001b[39;49m\u001b[43mremove_client\u001b[49m\u001b[43m(\u001b[49m\u001b[43mr\u001b[49m\u001b[43m,\u001b[49m\u001b[43m \u001b[49m\u001b[43m(\u001b[49m\u001b[43mnode\u001b[49m\u001b[43m,\u001b[49m\u001b[43m \u001b[49m\u001b[43mi\u001b[49m\u001b[43m)\u001b[49m\u001b[43m,\u001b[49m\u001b[43m \u001b[49m\u001b[43mreason\u001b[49m\u001b[38;5;241;43m=\u001b[39;49m\u001b[43mreason\u001b[49m\u001b[43m)\u001b[49m\n\u001b[1;32m    440\u001b[0m \u001b[38;5;66;03m# Precondition: the substitution is semantically valid However it may\u001b[39;00m\n\u001b[1;32m    441\u001b[0m \u001b[38;5;66;03m# introduce cycles to the graph, in which case the transaction will be\u001b[39;00m\n\u001b[1;32m    442\u001b[0m \u001b[38;5;66;03m# reverted later.\u001b[39;00m\n\u001b[1;32m    443\u001b[0m \u001b[38;5;28mself\u001b[39m\u001b[38;5;241m.\u001b[39mexecute_callbacks(\u001b[38;5;124m\"\u001b[39m\u001b[38;5;124mon_change_input\u001b[39m\u001b[38;5;124m\"\u001b[39m, node, i, r, new_var, reason\u001b[38;5;241m=\u001b[39mreason)\n",
      "File \u001b[0;32m~/miniconda3/envs/pymc_env/lib/python3.11/site-packages/pytensor/graph/fg.py:238\u001b[0m, in \u001b[0;36mFunctionGraph.remove_client\u001b[0;34m(self, var, client_to_remove, reason, remove_if_empty)\u001b[0m\n\u001b[1;32m    236\u001b[0m \u001b[38;5;28;01mtry\u001b[39;00m:\n\u001b[1;32m    237\u001b[0m     var_clients \u001b[38;5;241m=\u001b[39m \u001b[38;5;28mself\u001b[39m\u001b[38;5;241m.\u001b[39mclients[var]\n\u001b[0;32m--> 238\u001b[0m     var_clients\u001b[38;5;241m.\u001b[39mremove(client_to_remove)\n\u001b[1;32m    239\u001b[0m \u001b[38;5;28;01mexcept\u001b[39;00m \u001b[38;5;167;01mValueError\u001b[39;00m:\n\u001b[1;32m    240\u001b[0m     \u001b[38;5;66;03m# In this case, the original `var` could've been removed from\u001b[39;00m\n\u001b[1;32m    241\u001b[0m     \u001b[38;5;66;03m# the current `var`'s client list before this call.\u001b[39;00m\n\u001b[1;32m    242\u001b[0m     \u001b[38;5;66;03m# There's nothing inherently wrong with that, so we continue as\u001b[39;00m\n\u001b[1;32m    243\u001b[0m     \u001b[38;5;66;03m# if it were removed here.\u001b[39;00m\n\u001b[1;32m    244\u001b[0m     var_clients \u001b[38;5;241m=\u001b[39m \u001b[38;5;28;01mNone\u001b[39;00m\n",
      "\u001b[0;31mKeyboardInterrupt\u001b[0m: "
     ]
    }
   ],
   "source": [
    "with pm.Model() as irt_model:\n",
    "    #priors\n",
    "    #shot difficulty\n",
    "    b = pm.Normal('b', mu = 0, sigma = 1, shape = B)\n",
    "    sigma_b = pm.HalfCauchy('sigma_b', beta = 1)\n",
    "    mu_beta = pm.Normal('mu_beta', mu=pm.math.dot(S,b), sigma=sigma_b, shape=N)\n",
    "\n",
    "    #priors on irt components\n",
    "    alpha = pm.Normal('alpha', mu = 0, sigma = 1, shape = J)\n",
    "    sigma_beta = pm.HalfCauchy('sigma_beta', beta=1)\n",
    "    beta = pm.Normal('beta', mu = mu_beta, sigma = sigma_beta)\n",
    "    delta = pm.Normal('delta', mu=0.75, sigma=1)\n",
    "\n",
    "    #likelihood\n",
    "    for n in range(N):\n",
    "        p = pm.Deterministic(\"p{}\".format(n),pm.math.sigmoid(alpha[jj[n]] - beta[n] + delta))\n",
    "        pm.Bernoulli(f'y_{n}', p=p, observed=y[n])\n",
    "\n",
    "      # Sample\n",
    "    trace = pm.sample(draws = 500, cores=1)"
   ]
  },
  {
   "cell_type": "code",
   "execution_count": null,
   "id": "efab25b8-d816-454b-8375-03c6de2d2afb",
   "metadata": {},
   "outputs": [],
   "source": []
  }
 ],
 "metadata": {
  "kernelspec": {
   "display_name": "pymc3",
   "language": "python",
   "name": "pymc3"
  },
  "language_info": {
   "codemirror_mode": {
    "name": "ipython",
    "version": 3
   },
   "file_extension": ".py",
   "mimetype": "text/x-python",
   "name": "python",
   "nbconvert_exporter": "python",
   "pygments_lexer": "ipython3",
   "version": "3.11.7"
  }
 },
 "nbformat": 4,
 "nbformat_minor": 5
}
