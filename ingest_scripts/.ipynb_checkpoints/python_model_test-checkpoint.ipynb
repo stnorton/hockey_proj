{
 "cells": [
  {
   "cell_type": "code",
   "execution_count": 1,
   "id": "c787ebcd-5a85-487d-bc35-51cd0b2b6f39",
   "metadata": {},
   "outputs": [
    {
     "name": "stdout",
     "output_type": "stream",
     "text": [
      "Running on PyMC v5.10.4\n"
     ]
    }
   ],
   "source": [
    "import arviz as az\n",
    "import matplotlib.pyplot as plt\n",
    "import numpy as np\n",
    "import pymc as pm\n",
    "import pytensor.tensor as pt\n",
    "import polars as pl\n",
    "print(f\"Running on PyMC v{pm.__version__}\")\n",
    "RANDOM_SEED = 8927\n",
    "rng = np.random.default_rng(RANDOM_SEED)\n",
    "az.style.use(\"arviz-darkgrid\")\n"
   ]
  },
  {
   "cell_type": "code",
   "execution_count": 2,
   "id": "30a3959b-47a1-42cb-8f9f-4ffe0d08cf9d",
   "metadata": {},
   "outputs": [],
   "source": [
    "##READ IN\n",
    "df=pl.read_csv('goalie_df.csv', null_values = 'NA')"
   ]
  },
  {
   "cell_type": "code",
   "execution_count": 11,
   "id": "47828e47-a816-49ee-ad1c-b277371c03db",
   "metadata": {},
   "outputs": [
    {
     "data": {
      "text/html": [
       "<div><style>\n",
       ".dataframe > thead > tr,\n",
       ".dataframe > tbody > tr {\n",
       "  text-align: right;\n",
       "  white-space: pre-wrap;\n",
       "}\n",
       "</style>\n",
       "<small>shape: (5, 7)</small><table border=\"1\" class=\"dataframe\"><thead><tr><th></th><th>event_type</th><th>xg</th><th>secondary_type</th><th>event_goalie_id</th><th>goal</th><th>goalie_id_stan</th></tr><tr><td>i64</td><td>str</td><td>f64</td><td>str</td><td>i64</td><td>i64</td><td>i64</td></tr></thead><tbody><tr><td>7</td><td>&quot;SHOT&quot;</td><td>-0.367581</td><td>&quot;wrist&quot;</td><td>8477424</td><td>0</td><td>33</td></tr><tr><td>8</td><td>&quot;SHOT&quot;</td><td>0.914102</td><td>&quot;tip-in&quot;</td><td>8477424</td><td>0</td><td>33</td></tr><tr><td>10</td><td>&quot;SHOT&quot;</td><td>-0.387941</td><td>&quot;snap&quot;</td><td>8477424</td><td>0</td><td>33</td></tr><tr><td>16</td><td>&quot;SHOT&quot;</td><td>-0.384078</td><td>&quot;wrist&quot;</td><td>8477424</td><td>0</td><td>33</td></tr><tr><td>28</td><td>&quot;SHOT&quot;</td><td>-0.349418</td><td>&quot;snap&quot;</td><td>8477992</td><td>0</td><td>41</td></tr></tbody></table></div>"
      ],
      "text/plain": [
       "shape: (5, 7)\n",
       "┌─────┬────────────┬───────────┬────────────────┬─────────────────┬──────┬────────────────┐\n",
       "│     ┆ event_type ┆ xg        ┆ secondary_type ┆ event_goalie_id ┆ goal ┆ goalie_id_stan │\n",
       "│ --- ┆ ---        ┆ ---       ┆ ---            ┆ ---             ┆ ---  ┆ ---            │\n",
       "│ i64 ┆ str        ┆ f64       ┆ str            ┆ i64             ┆ i64  ┆ i64            │\n",
       "╞═════╪════════════╪═══════════╪════════════════╪═════════════════╪══════╪════════════════╡\n",
       "│ 7   ┆ SHOT       ┆ -0.367581 ┆ wrist          ┆ 8477424         ┆ 0    ┆ 33             │\n",
       "│ 8   ┆ SHOT       ┆ 0.914102  ┆ tip-in         ┆ 8477424         ┆ 0    ┆ 33             │\n",
       "│ 10  ┆ SHOT       ┆ -0.387941 ┆ snap           ┆ 8477424         ┆ 0    ┆ 33             │\n",
       "│ 16  ┆ SHOT       ┆ -0.384078 ┆ wrist          ┆ 8477424         ┆ 0    ┆ 33             │\n",
       "│ 28  ┆ SHOT       ┆ -0.349418 ┆ snap           ┆ 8477992         ┆ 0    ┆ 41             │\n",
       "└─────┴────────────┴───────────┴────────────────┴─────────────────┴──────┴────────────────┘"
      ]
     },
     "execution_count": 11,
     "metadata": {},
     "output_type": "execute_result"
    }
   ],
   "source": [
    "df.head()"
   ]
  },
  {
   "cell_type": "code",
   "execution_count": 3,
   "id": "d991b134-08c4-492e-bbd5-6bab687faf10",
   "metadata": {},
   "outputs": [],
   "source": [
    "#convert shot type to one hot encoding\n",
    "shot_df = df.select('secondary_type').to_dummies()"
   ]
  },
  {
   "cell_type": "code",
   "execution_count": 4,
   "id": "00eb7352-b446-4105-9208-b1636eaf1103",
   "metadata": {},
   "outputs": [],
   "source": [
    "#add intercept\n",
    "ones_df = pl.DataFrame({\"ones\": [1] * df.height})\n",
    "shot_df = pl.concat([ones_df, shot_df], how = 'horizontal')"
   ]
  },
  {
   "cell_type": "code",
   "execution_count": 25,
   "id": "efd31782-bb52-4da8-8c38-b1deec8a3a2c",
   "metadata": {},
   "outputs": [
    {
     "data": {
      "text/html": [
       "<div><style>\n",
       ".dataframe > thead > tr,\n",
       ".dataframe > tbody > tr {\n",
       "  text-align: right;\n",
       "  white-space: pre-wrap;\n",
       "}\n",
       "</style>\n",
       "<small>shape: (5, 12)</small><table border=\"1\" class=\"dataframe\"><thead><tr><th>ones</th><th>secondary_type_backhand</th><th>secondary_type_bat</th><th>secondary_type_between-legs</th><th>secondary_type_cradle</th><th>secondary_type_deflected</th><th>secondary_type_poke</th><th>secondary_type_slap</th><th>secondary_type_snap</th><th>secondary_type_tip-in</th><th>secondary_type_wrap-around</th><th>secondary_type_wrist</th></tr><tr><td>i64</td><td>u8</td><td>u8</td><td>u8</td><td>u8</td><td>u8</td><td>u8</td><td>u8</td><td>u8</td><td>u8</td><td>u8</td><td>u8</td></tr></thead><tbody><tr><td>1</td><td>0</td><td>0</td><td>0</td><td>0</td><td>0</td><td>0</td><td>0</td><td>0</td><td>0</td><td>0</td><td>1</td></tr><tr><td>1</td><td>0</td><td>0</td><td>0</td><td>0</td><td>0</td><td>0</td><td>0</td><td>0</td><td>1</td><td>0</td><td>0</td></tr><tr><td>1</td><td>0</td><td>0</td><td>0</td><td>0</td><td>0</td><td>0</td><td>0</td><td>1</td><td>0</td><td>0</td><td>0</td></tr><tr><td>1</td><td>0</td><td>0</td><td>0</td><td>0</td><td>0</td><td>0</td><td>0</td><td>0</td><td>0</td><td>0</td><td>1</td></tr><tr><td>1</td><td>0</td><td>0</td><td>0</td><td>0</td><td>0</td><td>0</td><td>0</td><td>1</td><td>0</td><td>0</td><td>0</td></tr></tbody></table></div>"
      ],
      "text/plain": [
       "shape: (5, 12)\n",
       "┌──────┬────────────┬────────────┬────────────┬───┬────────────┬───────────┬───────────┬───────────┐\n",
       "│ ones ┆ secondary_ ┆ secondary_ ┆ secondary_ ┆ … ┆ secondary_ ┆ secondary ┆ secondary ┆ secondary │\n",
       "│ ---  ┆ type_backh ┆ type_bat   ┆ type_betwe ┆   ┆ type_snap  ┆ _type_tip ┆ _type_wra ┆ _type_wri │\n",
       "│ i64  ┆ and        ┆ ---        ┆ en-legs    ┆   ┆ ---        ┆ -in       ┆ p-around  ┆ st        │\n",
       "│      ┆ ---        ┆ u8         ┆ ---        ┆   ┆ u8         ┆ ---       ┆ ---       ┆ ---       │\n",
       "│      ┆ u8         ┆            ┆ u8         ┆   ┆            ┆ u8        ┆ u8        ┆ u8        │\n",
       "╞══════╪════════════╪════════════╪════════════╪═══╪════════════╪═══════════╪═══════════╪═══════════╡\n",
       "│ 1    ┆ 0          ┆ 0          ┆ 0          ┆ … ┆ 0          ┆ 0         ┆ 0         ┆ 1         │\n",
       "│ 1    ┆ 0          ┆ 0          ┆ 0          ┆ … ┆ 0          ┆ 1         ┆ 0         ┆ 0         │\n",
       "│ 1    ┆ 0          ┆ 0          ┆ 0          ┆ … ┆ 1          ┆ 0         ┆ 0         ┆ 0         │\n",
       "│ 1    ┆ 0          ┆ 0          ┆ 0          ┆ … ┆ 0          ┆ 0         ┆ 0         ┆ 1         │\n",
       "│ 1    ┆ 0          ┆ 0          ┆ 0          ┆ … ┆ 1          ┆ 0         ┆ 0         ┆ 0         │\n",
       "└──────┴────────────┴────────────┴────────────┴───┴────────────┴───────────┴───────────┴───────────┘"
      ]
     },
     "execution_count": 25,
     "metadata": {},
     "output_type": "execute_result"
    }
   ],
   "source": [
    "shot_df.head()"
   ]
  },
  {
   "cell_type": "code",
   "execution_count": 27,
   "id": "78f82c18-eda7-4fdc-9b3b-17c2782f0358",
   "metadata": {},
   "outputs": [
    {
     "data": {
      "text/plain": [
       "12"
      ]
     },
     "execution_count": 27,
     "metadata": {},
     "output_type": "execute_result"
    }
   ],
   "source": [
    "shot_df.width"
   ]
  },
  {
   "cell_type": "code",
   "execution_count": 6,
   "id": "84b95737-598c-43cd-8dae-8077db714469",
   "metadata": {},
   "outputs": [],
   "source": [
    "# Data\n",
    "J = df['goalie_id_stan'].n_unique()\n",
    "N = df.height  # number of shots\n",
    "B = shot_df.width  # number of predictors for the hierarchical prior on beta (including intercept)\n",
    "S = np.array(shot_df)  # matrix of shot characteristics for hierarchical prior on beta\n",
    "jj = df['goalie_id_stan']  # goalie for observation n\n",
    "y = df['goal']  # correctness for observation n\n",
    "\n"
   ]
  },
  {
   "cell_type": "code",
   "execution_count": null,
   "id": "e4663e1e-d0ed-439c-bcad-5897f82877fc",
   "metadata": {},
   "outputs": [],
   "source": []
  },
  {
   "cell_type": "code",
   "execution_count": 7,
   "id": "68c9dd9f-1eeb-4ec5-a6ea-9d9cdcc0ae40",
   "metadata": {},
   "outputs": [
    {
     "ename": "KeyboardInterrupt",
     "evalue": "",
     "output_type": "error",
     "traceback": [
      "\u001b[0;31m---------------------------------------------------------------------------\u001b[0m",
      "\u001b[0;31mKeyboardInterrupt\u001b[0m                         Traceback (most recent call last)",
      "Cell \u001b[0;32mIn[7], line 16\u001b[0m\n\u001b[1;32m     14\u001b[0m \u001b[38;5;66;03m#likelihood\u001b[39;00m\n\u001b[1;32m     15\u001b[0m \u001b[38;5;28;01mfor\u001b[39;00m n \u001b[38;5;129;01min\u001b[39;00m \u001b[38;5;28mrange\u001b[39m(N):\n\u001b[0;32m---> 16\u001b[0m     p \u001b[38;5;241m=\u001b[39m pm\u001b[38;5;241m.\u001b[39mDeterministic(\u001b[38;5;124m\"\u001b[39m\u001b[38;5;124mp\u001b[39m\u001b[38;5;132;01m{}\u001b[39;00m\u001b[38;5;124m\"\u001b[39m\u001b[38;5;241m.\u001b[39mformat(n),pm\u001b[38;5;241m.\u001b[39mmath\u001b[38;5;241m.\u001b[39msigmoid(\u001b[43malpha\u001b[49m\u001b[43m[\u001b[49m\u001b[43mjj\u001b[49m\u001b[43m[\u001b[49m\u001b[43mn\u001b[49m\u001b[43m]\u001b[49m\u001b[43m]\u001b[49m\u001b[43m \u001b[49m\u001b[38;5;241;43m-\u001b[39;49m\u001b[43m \u001b[49m\u001b[43mbeta\u001b[49m\u001b[43m[\u001b[49m\u001b[43mn\u001b[49m\u001b[43m]\u001b[49m \u001b[38;5;241m+\u001b[39m delta))\n\u001b[1;32m     17\u001b[0m     pm\u001b[38;5;241m.\u001b[39mBernoulli(\u001b[38;5;124mf\u001b[39m\u001b[38;5;124m'\u001b[39m\u001b[38;5;124my_\u001b[39m\u001b[38;5;132;01m{\u001b[39;00mn\u001b[38;5;132;01m}\u001b[39;00m\u001b[38;5;124m'\u001b[39m, p\u001b[38;5;241m=\u001b[39mp, observed\u001b[38;5;241m=\u001b[39my[n])\n\u001b[1;32m     19\u001b[0m   \u001b[38;5;66;03m# Sample\u001b[39;00m\n",
      "File \u001b[0;32m~/miniconda3/envs/pymc_env/lib/python3.11/site-packages/pytensor/tensor/variable.py:125\u001b[0m, in \u001b[0;36m_tensor_py_operators.__sub__\u001b[0;34m(self, other)\u001b[0m\n\u001b[1;32m    121\u001b[0m \u001b[38;5;28;01mdef\u001b[39;00m \u001b[38;5;21m__sub__\u001b[39m(\u001b[38;5;28mself\u001b[39m, other):\n\u001b[1;32m    122\u001b[0m     \u001b[38;5;66;03m# See explanation in __add__ for the error caught\u001b[39;00m\n\u001b[1;32m    123\u001b[0m     \u001b[38;5;66;03m# and the return value in that case\u001b[39;00m\n\u001b[1;32m    124\u001b[0m     \u001b[38;5;28;01mtry\u001b[39;00m:\n\u001b[0;32m--> 125\u001b[0m         \u001b[38;5;28;01mreturn\u001b[39;00m \u001b[43mpt\u001b[49m\u001b[38;5;241;43m.\u001b[39;49m\u001b[43mmath\u001b[49m\u001b[38;5;241;43m.\u001b[39;49m\u001b[43msub\u001b[49m\u001b[43m(\u001b[49m\u001b[38;5;28;43mself\u001b[39;49m\u001b[43m,\u001b[49m\u001b[43m \u001b[49m\u001b[43mother\u001b[49m\u001b[43m)\u001b[49m\n\u001b[1;32m    126\u001b[0m     \u001b[38;5;28;01mexcept\u001b[39;00m (\u001b[38;5;167;01mNotImplementedError\u001b[39;00m, \u001b[38;5;167;01mTypeError\u001b[39;00m):\n\u001b[1;32m    127\u001b[0m         \u001b[38;5;28;01mreturn\u001b[39;00m \u001b[38;5;28mNotImplemented\u001b[39m\n",
      "File \u001b[0;32m~/miniconda3/envs/pymc_env/lib/python3.11/site-packages/pytensor/graph/op.py:295\u001b[0m, in \u001b[0;36mOp.__call__\u001b[0;34m(self, *inputs, **kwargs)\u001b[0m\n\u001b[1;32m    253\u001b[0m \u001b[38;5;250m\u001b[39m\u001b[38;5;124mr\u001b[39m\u001b[38;5;124;03m\"\"\"Construct an `Apply` node using :meth:`Op.make_node` and return its outputs.\u001b[39;00m\n\u001b[1;32m    254\u001b[0m \n\u001b[1;32m    255\u001b[0m \u001b[38;5;124;03mThis method is just a wrapper around :meth:`Op.make_node`.\u001b[39;00m\n\u001b[0;32m   (...)\u001b[0m\n\u001b[1;32m    292\u001b[0m \n\u001b[1;32m    293\u001b[0m \u001b[38;5;124;03m\"\"\"\u001b[39;00m\n\u001b[1;32m    294\u001b[0m return_list \u001b[38;5;241m=\u001b[39m kwargs\u001b[38;5;241m.\u001b[39mpop(\u001b[38;5;124m\"\u001b[39m\u001b[38;5;124mreturn_list\u001b[39m\u001b[38;5;124m\"\u001b[39m, \u001b[38;5;28;01mFalse\u001b[39;00m)\n\u001b[0;32m--> 295\u001b[0m node \u001b[38;5;241m=\u001b[39m \u001b[38;5;28;43mself\u001b[39;49m\u001b[38;5;241;43m.\u001b[39;49m\u001b[43mmake_node\u001b[49m\u001b[43m(\u001b[49m\u001b[38;5;241;43m*\u001b[39;49m\u001b[43minputs\u001b[49m\u001b[43m,\u001b[49m\u001b[43m \u001b[49m\u001b[38;5;241;43m*\u001b[39;49m\u001b[38;5;241;43m*\u001b[39;49m\u001b[43mkwargs\u001b[49m\u001b[43m)\u001b[49m\n\u001b[1;32m    297\u001b[0m \u001b[38;5;28;01mif\u001b[39;00m config\u001b[38;5;241m.\u001b[39mcompute_test_value \u001b[38;5;241m!=\u001b[39m \u001b[38;5;124m\"\u001b[39m\u001b[38;5;124moff\u001b[39m\u001b[38;5;124m\"\u001b[39m:\n\u001b[1;32m    298\u001b[0m     compute_test_value(node)\n",
      "File \u001b[0;32m~/miniconda3/envs/pymc_env/lib/python3.11/site-packages/pytensor/tensor/elemwise.py:483\u001b[0m, in \u001b[0;36mElemwise.make_node\u001b[0;34m(self, *inputs)\u001b[0m\n\u001b[1;32m    477\u001b[0m \u001b[38;5;250m\u001b[39m\u001b[38;5;124;03m\"\"\"\u001b[39;00m\n\u001b[1;32m    478\u001b[0m \u001b[38;5;124;03mIf the inputs have different number of dimensions, their shape\u001b[39;00m\n\u001b[1;32m    479\u001b[0m \u001b[38;5;124;03mis left-completed to the greatest number of dimensions with 1s\u001b[39;00m\n\u001b[1;32m    480\u001b[0m \u001b[38;5;124;03musing DimShuffle.\u001b[39;00m\n\u001b[1;32m    481\u001b[0m \u001b[38;5;124;03m\"\"\"\u001b[39;00m\n\u001b[1;32m    482\u001b[0m inputs \u001b[38;5;241m=\u001b[39m [as_tensor_variable(i) \u001b[38;5;28;01mfor\u001b[39;00m i \u001b[38;5;129;01min\u001b[39;00m inputs]\n\u001b[0;32m--> 483\u001b[0m out_dtypes, out_shapes, inputs \u001b[38;5;241m=\u001b[39m \u001b[38;5;28;43mself\u001b[39;49m\u001b[38;5;241;43m.\u001b[39;49m\u001b[43mget_output_info\u001b[49m\u001b[43m(\u001b[49m\u001b[43mDimShuffle\u001b[49m\u001b[43m,\u001b[49m\u001b[43m \u001b[49m\u001b[38;5;241;43m*\u001b[39;49m\u001b[43minputs\u001b[49m\u001b[43m)\u001b[49m\n\u001b[1;32m    484\u001b[0m outputs \u001b[38;5;241m=\u001b[39m [\n\u001b[1;32m    485\u001b[0m     TensorType(dtype\u001b[38;5;241m=\u001b[39mdtype, shape\u001b[38;5;241m=\u001b[39mshape)()\n\u001b[1;32m    486\u001b[0m     \u001b[38;5;28;01mfor\u001b[39;00m dtype, shape \u001b[38;5;129;01min\u001b[39;00m \u001b[38;5;28mzip\u001b[39m(out_dtypes, out_shapes)\n\u001b[1;32m    487\u001b[0m ]\n\u001b[1;32m    488\u001b[0m \u001b[38;5;28;01mreturn\u001b[39;00m Apply(\u001b[38;5;28mself\u001b[39m, inputs, outputs)\n",
      "File \u001b[0;32m~/miniconda3/envs/pymc_env/lib/python3.11/site-packages/pytensor/tensor/elemwise.py:464\u001b[0m, in \u001b[0;36mElemwise.get_output_info\u001b[0;34m(self, dim_shuffle, *inputs)\u001b[0m\n\u001b[1;32m    458\u001b[0m                 \u001b[38;5;28;01mraise\u001b[39;00m \u001b[38;5;167;01mValueError\u001b[39;00m(\n\u001b[1;32m    459\u001b[0m                     \u001b[38;5;124m\"\u001b[39m\u001b[38;5;124mOperation cannot be done inplace on an input \u001b[39m\u001b[38;5;124m\"\u001b[39m\n\u001b[1;32m    460\u001b[0m                     \u001b[38;5;124m\"\u001b[39m\u001b[38;5;124mwith broadcasted dimensions.\u001b[39m\u001b[38;5;124m\"\u001b[39m\n\u001b[1;32m    461\u001b[0m                 )\n\u001b[1;32m    463\u001b[0m out_dtypes \u001b[38;5;241m=\u001b[39m [o\u001b[38;5;241m.\u001b[39mtype\u001b[38;5;241m.\u001b[39mdtype \u001b[38;5;28;01mfor\u001b[39;00m o \u001b[38;5;129;01min\u001b[39;00m shadow\u001b[38;5;241m.\u001b[39moutputs]\n\u001b[0;32m--> 464\u001b[0m \u001b[38;5;28;01mif\u001b[39;00m \u001b[38;5;28many\u001b[39m(\n\u001b[1;32m    465\u001b[0m     inputs[i]\u001b[38;5;241m.\u001b[39mtype\u001b[38;5;241m.\u001b[39mdtype \u001b[38;5;241m!=\u001b[39m out_dtypes[o] \u001b[38;5;28;01mfor\u001b[39;00m o, i \u001b[38;5;129;01min\u001b[39;00m inplace_pattern\u001b[38;5;241m.\u001b[39mitems()\n\u001b[1;32m    466\u001b[0m ):\n\u001b[1;32m    467\u001b[0m     \u001b[38;5;28;01mraise\u001b[39;00m \u001b[38;5;167;01mTypeError\u001b[39;00m(\n\u001b[1;32m    468\u001b[0m         (\n\u001b[1;32m    469\u001b[0m             \u001b[38;5;124m\"\u001b[39m\u001b[38;5;124mCannot do an inplace operation on incompatible data types.\u001b[39m\u001b[38;5;124m\"\u001b[39m,\n\u001b[1;32m    470\u001b[0m             ([i\u001b[38;5;241m.\u001b[39mtype\u001b[38;5;241m.\u001b[39mdtype \u001b[38;5;28;01mfor\u001b[39;00m i \u001b[38;5;129;01min\u001b[39;00m inputs], out_dtypes, inplace_pattern),\n\u001b[1;32m    471\u001b[0m         )\n\u001b[1;32m    472\u001b[0m     )\n\u001b[1;32m    473\u001b[0m \u001b[38;5;28;01massert\u001b[39;00m \u001b[38;5;28mlen\u001b[39m(out_dtypes) \u001b[38;5;241m==\u001b[39m \u001b[38;5;28mlen\u001b[39m(out_shapes)\n",
      "File \u001b[0;32m~/miniconda3/envs/pymc_env/lib/python3.11/site-packages/pytensor/tensor/elemwise.py:464\u001b[0m, in \u001b[0;36m<genexpr>\u001b[0;34m(.0)\u001b[0m\n\u001b[1;32m    458\u001b[0m                 \u001b[38;5;28;01mraise\u001b[39;00m \u001b[38;5;167;01mValueError\u001b[39;00m(\n\u001b[1;32m    459\u001b[0m                     \u001b[38;5;124m\"\u001b[39m\u001b[38;5;124mOperation cannot be done inplace on an input \u001b[39m\u001b[38;5;124m\"\u001b[39m\n\u001b[1;32m    460\u001b[0m                     \u001b[38;5;124m\"\u001b[39m\u001b[38;5;124mwith broadcasted dimensions.\u001b[39m\u001b[38;5;124m\"\u001b[39m\n\u001b[1;32m    461\u001b[0m                 )\n\u001b[1;32m    463\u001b[0m out_dtypes \u001b[38;5;241m=\u001b[39m [o\u001b[38;5;241m.\u001b[39mtype\u001b[38;5;241m.\u001b[39mdtype \u001b[38;5;28;01mfor\u001b[39;00m o \u001b[38;5;129;01min\u001b[39;00m shadow\u001b[38;5;241m.\u001b[39moutputs]\n\u001b[0;32m--> 464\u001b[0m \u001b[38;5;28;01mif\u001b[39;00m \u001b[38;5;28many\u001b[39m\u001b[43m(\u001b[49m\n\u001b[1;32m    465\u001b[0m \u001b[43m    \u001b[49m\u001b[43minputs\u001b[49m\u001b[43m[\u001b[49m\u001b[43mi\u001b[49m\u001b[43m]\u001b[49m\u001b[38;5;241;43m.\u001b[39;49m\u001b[43mtype\u001b[49m\u001b[38;5;241;43m.\u001b[39;49m\u001b[43mdtype\u001b[49m\u001b[43m \u001b[49m\u001b[38;5;241;43m!=\u001b[39;49m\u001b[43m \u001b[49m\u001b[43mout_dtypes\u001b[49m\u001b[43m[\u001b[49m\u001b[43mo\u001b[49m\u001b[43m]\u001b[49m\u001b[43m \u001b[49m\u001b[38;5;28;43;01mfor\u001b[39;49;00m\u001b[43m \u001b[49m\u001b[43mo\u001b[49m\u001b[43m,\u001b[49m\u001b[43m \u001b[49m\u001b[43mi\u001b[49m\u001b[43m \u001b[49m\u001b[38;5;129;43;01min\u001b[39;49;00m\u001b[43m \u001b[49m\u001b[43minplace_pattern\u001b[49m\u001b[38;5;241;43m.\u001b[39;49m\u001b[43mitems\u001b[49m\u001b[43m(\u001b[49m\u001b[43m)\u001b[49m\n\u001b[1;32m    466\u001b[0m \u001b[43m\u001b[49m\u001b[43m)\u001b[49m:\n\u001b[1;32m    467\u001b[0m     \u001b[38;5;28;01mraise\u001b[39;00m \u001b[38;5;167;01mTypeError\u001b[39;00m(\n\u001b[1;32m    468\u001b[0m         (\n\u001b[1;32m    469\u001b[0m             \u001b[38;5;124m\"\u001b[39m\u001b[38;5;124mCannot do an inplace operation on incompatible data types.\u001b[39m\u001b[38;5;124m\"\u001b[39m,\n\u001b[1;32m    470\u001b[0m             ([i\u001b[38;5;241m.\u001b[39mtype\u001b[38;5;241m.\u001b[39mdtype \u001b[38;5;28;01mfor\u001b[39;00m i \u001b[38;5;129;01min\u001b[39;00m inputs], out_dtypes, inplace_pattern),\n\u001b[1;32m    471\u001b[0m         )\n\u001b[1;32m    472\u001b[0m     )\n\u001b[1;32m    473\u001b[0m \u001b[38;5;28;01massert\u001b[39;00m \u001b[38;5;28mlen\u001b[39m(out_dtypes) \u001b[38;5;241m==\u001b[39m \u001b[38;5;28mlen\u001b[39m(out_shapes)\n",
      "File \u001b[0;32m<frozen _collections_abc>:860\u001b[0m, in \u001b[0;36m__iter__\u001b[0;34m(self)\u001b[0m\n",
      "File \u001b[0;32m~/miniconda3/envs/pymc_env/lib/python3.11/site-packages/pytensor/misc/frozendict.py:32\u001b[0m, in \u001b[0;36mfrozendict.__iter__\u001b[0;34m(self)\u001b[0m\n\u001b[1;32m     31\u001b[0m \u001b[38;5;28;01mdef\u001b[39;00m \u001b[38;5;21m__iter__\u001b[39m(\u001b[38;5;28mself\u001b[39m):\n\u001b[0;32m---> 32\u001b[0m     \u001b[38;5;28;01mreturn\u001b[39;00m \u001b[38;5;28miter\u001b[39m(\u001b[38;5;28mself\u001b[39m\u001b[38;5;241m.\u001b[39m_dict)\n",
      "\u001b[0;31mKeyboardInterrupt\u001b[0m: "
     ]
    }
   ],
   "source": [
    "with pm.Model() as irt_model:\n",
    "    #priors\n",
    "    #shot difficulty\n",
    "    b = pm.Normal('b', mu = 0, sigma = 1, shape = B)\n",
    "    sigma_b = pm.HalfCauchy('sigma_b', beta = 1)\n",
    "    mu_beta = pm.Normal('mu_beta', mu=pm.math.dot(S,b), sigma=sigma_b, shape=N)\n",
    "\n",
    "    #priors on irt components\n",
    "    alpha = pm.Normal('alpha', mu = 0, sigma = 1, shape = J)\n",
    "    sigma_beta = pm.HalfCauchy('sigma_beta', beta=1)\n",
    "    beta = pm.Normal('beta', mu = mu_beta, sigma = sigma_beta)\n",
    "    delta = pm.Normal('delta', mu=0.75, sigma=1)\n",
    "\n",
    "    #likelihood\n",
    "    for n in range(N):\n",
    "        p = pm.Deterministic(\"p{}\".format(n),pm.math.sigmoid(alpha[jj[n]] - beta[n] + delta))\n",
    "        pm.Bernoulli(f'y_{n}', p=p, observed=y[n])\n",
    "\n",
    "      # Sample\n",
    "    trace = pm.sample(250, tune=250, cores=1, progressbar= True)"
   ]
  },
  {
   "cell_type": "code",
   "execution_count": null,
   "id": "efab25b8-d816-454b-8375-03c6de2d2afb",
   "metadata": {},
   "outputs": [],
   "source": []
  }
 ],
 "metadata": {
  "kernelspec": {
   "display_name": "pymc3",
   "language": "python",
   "name": "pymc3"
  },
  "language_info": {
   "codemirror_mode": {
    "name": "ipython",
    "version": 3
   },
   "file_extension": ".py",
   "mimetype": "text/x-python",
   "name": "python",
   "nbconvert_exporter": "python",
   "pygments_lexer": "ipython3",
   "version": "3.11.7"
  }
 },
 "nbformat": 4,
 "nbformat_minor": 5
}
