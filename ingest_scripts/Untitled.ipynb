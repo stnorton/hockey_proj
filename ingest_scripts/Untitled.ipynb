{
 "cells": [
  {
   "cell_type": "code",
   "execution_count": 38,
   "id": "c787ebcd-5a85-487d-bc35-51cd0b2b6f39",
   "metadata": {},
   "outputs": [
    {
     "ename": "SyntaxError",
     "evalue": "invalid syntax (988051846.py, line 10)",
     "output_type": "error",
     "traceback": [
      "\u001b[0;36m  Cell \u001b[0;32mIn[38], line 10\u001b[0;36m\u001b[0m\n\u001b[0;31m    jupyter nbextension enable --py widgetsnbextension\u001b[0m\n\u001b[0m            ^\u001b[0m\n\u001b[0;31mSyntaxError\u001b[0m\u001b[0;31m:\u001b[0m invalid syntax\n"
     ]
    }
   ],
   "source": [
    "import arviz as az\n",
    "import matplotlib.pyplot as plt\n",
    "import numpy as np\n",
    "import pymc as pm\n",
    "import pytensor.tensor as pt\n",
    "print(f\"Running on PyMC v{pm.__version__}\")\n",
    "RANDOM_SEED = 8927\n",
    "rng = np.random.default_rng(RANDOM_SEED)\n",
    "az.style.use(\"arviz-darkgrid\")\n"
   ]
  },
  {
   "cell_type": "code",
   "execution_count": 10,
   "id": "30a3959b-47a1-42cb-8f9f-4ffe0d08cf9d",
   "metadata": {},
   "outputs": [],
   "source": [
    "##READ IN\n",
    "df=pl.read_csv('goalie_df.csv', null_values = 'NA')"
   ]
  },
  {
   "cell_type": "code",
   "execution_count": 11,
   "id": "47828e47-a816-49ee-ad1c-b277371c03db",
   "metadata": {},
   "outputs": [
    {
     "data": {
      "text/html": [
       "<div><style>\n",
       ".dataframe > thead > tr,\n",
       ".dataframe > tbody > tr {\n",
       "  text-align: right;\n",
       "  white-space: pre-wrap;\n",
       "}\n",
       "</style>\n",
       "<small>shape: (5, 7)</small><table border=\"1\" class=\"dataframe\"><thead><tr><th></th><th>event_type</th><th>xg</th><th>secondary_type</th><th>event_goalie_id</th><th>goal</th><th>goalie_id_stan</th></tr><tr><td>i64</td><td>str</td><td>f64</td><td>str</td><td>i64</td><td>i64</td><td>i64</td></tr></thead><tbody><tr><td>7</td><td>&quot;SHOT&quot;</td><td>-0.367581</td><td>&quot;wrist&quot;</td><td>8477424</td><td>0</td><td>33</td></tr><tr><td>8</td><td>&quot;SHOT&quot;</td><td>0.914102</td><td>&quot;tip-in&quot;</td><td>8477424</td><td>0</td><td>33</td></tr><tr><td>10</td><td>&quot;SHOT&quot;</td><td>-0.387941</td><td>&quot;snap&quot;</td><td>8477424</td><td>0</td><td>33</td></tr><tr><td>16</td><td>&quot;SHOT&quot;</td><td>-0.384078</td><td>&quot;wrist&quot;</td><td>8477424</td><td>0</td><td>33</td></tr><tr><td>28</td><td>&quot;SHOT&quot;</td><td>-0.349418</td><td>&quot;snap&quot;</td><td>8477992</td><td>0</td><td>41</td></tr></tbody></table></div>"
      ],
      "text/plain": [
       "shape: (5, 7)\n",
       "┌─────┬────────────┬───────────┬────────────────┬─────────────────┬──────┬────────────────┐\n",
       "│     ┆ event_type ┆ xg        ┆ secondary_type ┆ event_goalie_id ┆ goal ┆ goalie_id_stan │\n",
       "│ --- ┆ ---        ┆ ---       ┆ ---            ┆ ---             ┆ ---  ┆ ---            │\n",
       "│ i64 ┆ str        ┆ f64       ┆ str            ┆ i64             ┆ i64  ┆ i64            │\n",
       "╞═════╪════════════╪═══════════╪════════════════╪═════════════════╪══════╪════════════════╡\n",
       "│ 7   ┆ SHOT       ┆ -0.367581 ┆ wrist          ┆ 8477424         ┆ 0    ┆ 33             │\n",
       "│ 8   ┆ SHOT       ┆ 0.914102  ┆ tip-in         ┆ 8477424         ┆ 0    ┆ 33             │\n",
       "│ 10  ┆ SHOT       ┆ -0.387941 ┆ snap           ┆ 8477424         ┆ 0    ┆ 33             │\n",
       "│ 16  ┆ SHOT       ┆ -0.384078 ┆ wrist          ┆ 8477424         ┆ 0    ┆ 33             │\n",
       "│ 28  ┆ SHOT       ┆ -0.349418 ┆ snap           ┆ 8477992         ┆ 0    ┆ 41             │\n",
       "└─────┴────────────┴───────────┴────────────────┴─────────────────┴──────┴────────────────┘"
      ]
     },
     "execution_count": 11,
     "metadata": {},
     "output_type": "execute_result"
    }
   ],
   "source": [
    "df.head()"
   ]
  },
  {
   "cell_type": "code",
   "execution_count": 14,
   "id": "d991b134-08c4-492e-bbd5-6bab687faf10",
   "metadata": {},
   "outputs": [],
   "source": [
    "#convert shot type to one hot encoding\n",
    "shot_df = df.select('secondary_type').to_dummies()"
   ]
  },
  {
   "cell_type": "code",
   "execution_count": 24,
   "id": "00eb7352-b446-4105-9208-b1636eaf1103",
   "metadata": {},
   "outputs": [],
   "source": [
    "#add intercept\n",
    "ones_df = pl.DataFrame({\"ones\": [1] * df.height})\n",
    "shot_df = pl.concat([ones_df, shot_df], how = 'horizontal')"
   ]
  },
  {
   "cell_type": "code",
   "execution_count": 25,
   "id": "efd31782-bb52-4da8-8c38-b1deec8a3a2c",
   "metadata": {},
   "outputs": [
    {
     "data": {
      "text/html": [
       "<div><style>\n",
       ".dataframe > thead > tr,\n",
       ".dataframe > tbody > tr {\n",
       "  text-align: right;\n",
       "  white-space: pre-wrap;\n",
       "}\n",
       "</style>\n",
       "<small>shape: (5, 12)</small><table border=\"1\" class=\"dataframe\"><thead><tr><th>ones</th><th>secondary_type_backhand</th><th>secondary_type_bat</th><th>secondary_type_between-legs</th><th>secondary_type_cradle</th><th>secondary_type_deflected</th><th>secondary_type_poke</th><th>secondary_type_slap</th><th>secondary_type_snap</th><th>secondary_type_tip-in</th><th>secondary_type_wrap-around</th><th>secondary_type_wrist</th></tr><tr><td>i64</td><td>u8</td><td>u8</td><td>u8</td><td>u8</td><td>u8</td><td>u8</td><td>u8</td><td>u8</td><td>u8</td><td>u8</td><td>u8</td></tr></thead><tbody><tr><td>1</td><td>0</td><td>0</td><td>0</td><td>0</td><td>0</td><td>0</td><td>0</td><td>0</td><td>0</td><td>0</td><td>1</td></tr><tr><td>1</td><td>0</td><td>0</td><td>0</td><td>0</td><td>0</td><td>0</td><td>0</td><td>0</td><td>1</td><td>0</td><td>0</td></tr><tr><td>1</td><td>0</td><td>0</td><td>0</td><td>0</td><td>0</td><td>0</td><td>0</td><td>1</td><td>0</td><td>0</td><td>0</td></tr><tr><td>1</td><td>0</td><td>0</td><td>0</td><td>0</td><td>0</td><td>0</td><td>0</td><td>0</td><td>0</td><td>0</td><td>1</td></tr><tr><td>1</td><td>0</td><td>0</td><td>0</td><td>0</td><td>0</td><td>0</td><td>0</td><td>1</td><td>0</td><td>0</td><td>0</td></tr></tbody></table></div>"
      ],
      "text/plain": [
       "shape: (5, 12)\n",
       "┌──────┬────────────┬────────────┬────────────┬───┬────────────┬───────────┬───────────┬───────────┐\n",
       "│ ones ┆ secondary_ ┆ secondary_ ┆ secondary_ ┆ … ┆ secondary_ ┆ secondary ┆ secondary ┆ secondary │\n",
       "│ ---  ┆ type_backh ┆ type_bat   ┆ type_betwe ┆   ┆ type_snap  ┆ _type_tip ┆ _type_wra ┆ _type_wri │\n",
       "│ i64  ┆ and        ┆ ---        ┆ en-legs    ┆   ┆ ---        ┆ -in       ┆ p-around  ┆ st        │\n",
       "│      ┆ ---        ┆ u8         ┆ ---        ┆   ┆ u8         ┆ ---       ┆ ---       ┆ ---       │\n",
       "│      ┆ u8         ┆            ┆ u8         ┆   ┆            ┆ u8        ┆ u8        ┆ u8        │\n",
       "╞══════╪════════════╪════════════╪════════════╪═══╪════════════╪═══════════╪═══════════╪═══════════╡\n",
       "│ 1    ┆ 0          ┆ 0          ┆ 0          ┆ … ┆ 0          ┆ 0         ┆ 0         ┆ 1         │\n",
       "│ 1    ┆ 0          ┆ 0          ┆ 0          ┆ … ┆ 0          ┆ 1         ┆ 0         ┆ 0         │\n",
       "│ 1    ┆ 0          ┆ 0          ┆ 0          ┆ … ┆ 1          ┆ 0         ┆ 0         ┆ 0         │\n",
       "│ 1    ┆ 0          ┆ 0          ┆ 0          ┆ … ┆ 0          ┆ 0         ┆ 0         ┆ 1         │\n",
       "│ 1    ┆ 0          ┆ 0          ┆ 0          ┆ … ┆ 1          ┆ 0         ┆ 0         ┆ 0         │\n",
       "└──────┴────────────┴────────────┴────────────┴───┴────────────┴───────────┴───────────┴───────────┘"
      ]
     },
     "execution_count": 25,
     "metadata": {},
     "output_type": "execute_result"
    }
   ],
   "source": [
    "shot_df.head()"
   ]
  },
  {
   "cell_type": "code",
   "execution_count": 27,
   "id": "78f82c18-eda7-4fdc-9b3b-17c2782f0358",
   "metadata": {},
   "outputs": [
    {
     "data": {
      "text/plain": [
       "12"
      ]
     },
     "execution_count": 27,
     "metadata": {},
     "output_type": "execute_result"
    }
   ],
   "source": [
    "shot_df.width"
   ]
  },
  {
   "cell_type": "code",
   "execution_count": 34,
   "id": "84b95737-598c-43cd-8dae-8077db714469",
   "metadata": {},
   "outputs": [],
   "source": [
    "# Data\n",
    "J = df['goalie_id_stan'].n_unique()\n",
    "N = df.height  # number of shots\n",
    "B = shot_df.width  # number of predictors for the hierarchical prior on beta (including intercept)\n",
    "S = np.array(shot_df)  # matrix of shot characteristics for hierarchical prior on beta\n",
    "jj = df['goalie_id_stan']  # goalie for observation n\n",
    "y = df['goal']  # correctness for observation n\n",
    "\n"
   ]
  },
  {
   "cell_type": "code",
   "execution_count": null,
   "id": "e4663e1e-d0ed-439c-bcad-5897f82877fc",
   "metadata": {},
   "outputs": [],
   "source": []
  },
  {
   "cell_type": "code",
   "execution_count": 37,
   "id": "68c9dd9f-1eeb-4ec5-a6ea-9d9cdcc0ae40",
   "metadata": {},
   "outputs": [
    {
     "name": "stderr",
     "output_type": "stream",
     "text": [
      "Only 250 samples in chain.\n"
     ]
    },
    {
     "ename": "KeyboardInterrupt",
     "evalue": "",
     "output_type": "error",
     "traceback": [
      "\u001b[0;31m---------------------------------------------------------------------------\u001b[0m",
      "\u001b[0;31mKeyboardInterrupt\u001b[0m                         Traceback (most recent call last)",
      "Cell \u001b[0;32mIn[37], line 20\u001b[0m\n\u001b[1;32m     17\u001b[0m     pm\u001b[38;5;241m.\u001b[39mBernoulli(\u001b[38;5;124mf\u001b[39m\u001b[38;5;124m'\u001b[39m\u001b[38;5;124my_\u001b[39m\u001b[38;5;132;01m{\u001b[39;00mn\u001b[38;5;132;01m}\u001b[39;00m\u001b[38;5;124m'\u001b[39m, p\u001b[38;5;241m=\u001b[39mp, observed\u001b[38;5;241m=\u001b[39my[n])\n\u001b[1;32m     19\u001b[0m   \u001b[38;5;66;03m# Sample\u001b[39;00m\n\u001b[0;32m---> 20\u001b[0m trace \u001b[38;5;241m=\u001b[39m \u001b[43mpm\u001b[49m\u001b[38;5;241;43m.\u001b[39;49m\u001b[43msample\u001b[49m\u001b[43m(\u001b[49m\u001b[38;5;241;43m250\u001b[39;49m\u001b[43m,\u001b[49m\u001b[43m \u001b[49m\u001b[43mtune\u001b[49m\u001b[38;5;241;43m=\u001b[39;49m\u001b[38;5;241;43m500\u001b[39;49m\u001b[43m,\u001b[49m\u001b[43m \u001b[49m\u001b[43mcores\u001b[49m\u001b[38;5;241;43m=\u001b[39;49m\u001b[38;5;241;43m1\u001b[39;49m\u001b[43m)\u001b[49m\n",
      "File \u001b[0;32m~/miniconda3/envs/pymc_env/lib/python3.11/site-packages/pymc/sampling/mcmc.py:682\u001b[0m, in \u001b[0;36msample\u001b[0;34m(draws, tune, chains, cores, random_seed, progressbar, step, nuts_sampler, initvals, init, jitter_max_retries, n_init, trace, discard_tuned_samples, compute_convergence_checks, keep_warning_stat, return_inferencedata, idata_kwargs, nuts_sampler_kwargs, callback, mp_ctx, model, **kwargs)\u001b[0m\n\u001b[1;32m    679\u001b[0m         auto_nuts_init \u001b[38;5;241m=\u001b[39m \u001b[38;5;28;01mFalse\u001b[39;00m\n\u001b[1;32m    681\u001b[0m initial_points \u001b[38;5;241m=\u001b[39m \u001b[38;5;28;01mNone\u001b[39;00m\n\u001b[0;32m--> 682\u001b[0m step \u001b[38;5;241m=\u001b[39m \u001b[43massign_step_methods\u001b[49m\u001b[43m(\u001b[49m\u001b[43mmodel\u001b[49m\u001b[43m,\u001b[49m\u001b[43m \u001b[49m\u001b[43mstep\u001b[49m\u001b[43m,\u001b[49m\u001b[43m \u001b[49m\u001b[43mmethods\u001b[49m\u001b[38;5;241;43m=\u001b[39;49m\u001b[43mpm\u001b[49m\u001b[38;5;241;43m.\u001b[39;49m\u001b[43mSTEP_METHODS\u001b[49m\u001b[43m,\u001b[49m\u001b[43m \u001b[49m\u001b[43mstep_kwargs\u001b[49m\u001b[38;5;241;43m=\u001b[39;49m\u001b[43mkwargs\u001b[49m\u001b[43m)\u001b[49m\n\u001b[1;32m    684\u001b[0m \u001b[38;5;28;01mif\u001b[39;00m nuts_sampler \u001b[38;5;241m!=\u001b[39m \u001b[38;5;124m\"\u001b[39m\u001b[38;5;124mpymc\u001b[39m\u001b[38;5;124m\"\u001b[39m:\n\u001b[1;32m    685\u001b[0m     \u001b[38;5;28;01mif\u001b[39;00m \u001b[38;5;129;01mnot\u001b[39;00m \u001b[38;5;28misinstance\u001b[39m(step, NUTS):\n",
      "File \u001b[0;32m~/miniconda3/envs/pymc_env/lib/python3.11/site-packages/pymc/sampling/mcmc.py:210\u001b[0m, in \u001b[0;36massign_step_methods\u001b[0;34m(model, step, methods, step_kwargs)\u001b[0m\n\u001b[1;32m    208\u001b[0m methods_list: \u001b[38;5;28mlist\u001b[39m[\u001b[38;5;28mtype\u001b[39m[BlockedStep]] \u001b[38;5;241m=\u001b[39m \u001b[38;5;28mlist\u001b[39m(methods \u001b[38;5;129;01mor\u001b[39;00m pm\u001b[38;5;241m.\u001b[39mSTEP_METHODS)\n\u001b[1;32m    209\u001b[0m selected_steps: \u001b[38;5;28mdict\u001b[39m[\u001b[38;5;28mtype\u001b[39m[BlockedStep], \u001b[38;5;28mlist\u001b[39m] \u001b[38;5;241m=\u001b[39m {}\n\u001b[0;32m--> 210\u001b[0m model_logp \u001b[38;5;241m=\u001b[39m \u001b[43mmodel\u001b[49m\u001b[38;5;241;43m.\u001b[39;49m\u001b[43mlogp\u001b[49m\u001b[43m(\u001b[49m\u001b[43m)\u001b[49m\n\u001b[1;32m    212\u001b[0m \u001b[38;5;28;01mfor\u001b[39;00m var \u001b[38;5;129;01min\u001b[39;00m model\u001b[38;5;241m.\u001b[39mvalue_vars:\n\u001b[1;32m    213\u001b[0m     \u001b[38;5;28;01mif\u001b[39;00m var \u001b[38;5;129;01mnot\u001b[39;00m \u001b[38;5;129;01min\u001b[39;00m assigned_vars:\n\u001b[1;32m    214\u001b[0m         \u001b[38;5;66;03m# determine if a gradient can be computed\u001b[39;00m\n",
      "File \u001b[0;32m~/miniconda3/envs/pymc_env/lib/python3.11/site-packages/pymc/model/core.py:707\u001b[0m, in \u001b[0;36mModel.logp\u001b[0;34m(self, vars, jacobian, sum)\u001b[0m\n\u001b[1;32m    705\u001b[0m \u001b[38;5;28;01mif\u001b[39;00m rv \u001b[38;5;129;01min\u001b[39;00m \u001b[38;5;28mself\u001b[39m\u001b[38;5;241m.\u001b[39mbasic_RVs:\n\u001b[1;32m    706\u001b[0m     rvs\u001b[38;5;241m.\u001b[39mappend(rv)\n\u001b[0;32m--> 707\u001b[0m     rv_order\u001b[38;5;241m.\u001b[39mappend(i)\n\u001b[1;32m    708\u001b[0m \u001b[38;5;28;01melse\u001b[39;00m:\n\u001b[1;32m    709\u001b[0m     \u001b[38;5;28;01mif\u001b[39;00m var \u001b[38;5;129;01min\u001b[39;00m \u001b[38;5;28mself\u001b[39m\u001b[38;5;241m.\u001b[39mpotentials:\n",
      "\u001b[0;31mKeyboardInterrupt\u001b[0m: "
     ]
    }
   ],
   "source": [
    "with pm.Model() as irt_model:\n",
    "    #priors\n",
    "    #shot difficulty\n",
    "    b = pm.Normal('b', mu = 0, sigma = 1, shape = B)\n",
    "    sigma_b = pm.HalfCauchy('sigma_b', beta = 1)\n",
    "    mu_beta = pm.Normal('mu_beta', mu=pm.math.dot(S,b), sigma=sigma_b, shape=N)\n",
    "\n",
    "    #priors on irt components\n",
    "    alpha = pm.Normal('alpha', mu = 0, sigma = 1, shape = J)\n",
    "    sigma_beta = pm.HalfCauchy('sigma_beta', beta=1)\n",
    "    beta = pm.Normal('beta', mu = mu_beta, sigma = sigma_beta)\n",
    "    delta = pm.Normal('delta', mu=0.75, sigma=1)\n",
    "\n",
    "    #likelihood\n",
    "    for n in range(N):\n",
    "        p = pm.Deterministic(\"p{}\".format(n),pm.math.sigmoid(alpha[jj[n]] - beta[n] + delta))\n",
    "        pm.Bernoulli(f'y_{n}', p=p, observed=y[n])\n",
    "\n",
    "      # Sample\n",
    "    trace = pm.sample(250, tune=250, cores=1)"
   ]
  },
  {
   "cell_type": "code",
   "execution_count": null,
   "id": "efab25b8-d816-454b-8375-03c6de2d2afb",
   "metadata": {},
   "outputs": [],
   "source": []
  }
 ],
 "metadata": {
  "kernelspec": {
   "display_name": "pymc3",
   "language": "python",
   "name": "pymc3"
  },
  "language_info": {
   "codemirror_mode": {
    "name": "ipython",
    "version": 3
   },
   "file_extension": ".py",
   "mimetype": "text/x-python",
   "name": "python",
   "nbconvert_exporter": "python",
   "pygments_lexer": "ipython3",
   "version": "3.11.7"
  }
 },
 "nbformat": 4,
 "nbformat_minor": 5
}
