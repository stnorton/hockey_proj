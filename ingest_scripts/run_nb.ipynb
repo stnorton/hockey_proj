{
 "cells": [
  {
   "cell_type": "code",
   "execution_count": 1,
   "id": "2aa7dbd6-9b74-43bc-a0db-f71ab0759628",
   "metadata": {},
   "outputs": [
    {
     "name": "stdout",
     "output_type": "stream",
     "text": [
      "WARNING:tensorflow:From C:\\Users\\Sean\\AppData\\Local\\Programs\\Python\\Python310\\lib\\site-packages\\keras\\src\\losses.py:2976: The name tf.losses.sparse_softmax_cross_entropy is deprecated. Please use tf.compat.v1.losses.sparse_softmax_cross_entropy instead.\n",
      "\n"
     ]
    },
    {
     "name": "stderr",
     "output_type": "stream",
     "text": [
      "C:\\Users\\Sean\\Documents\\Projects\\hockey_proj\\ingest_scripts\\get_shot_embeddings_ind.py:25: DtypeWarning: Columns (28,30,31,46,52,53,102,105,106,107,123) have mixed types. Specify dtype option on import or set low_memory=False.\n",
      "  all_df = pd.read_csv(data_file)\n"
     ]
    },
    {
     "name": "stdout",
     "output_type": "stream",
     "text": [
      "WARNING:tensorflow:From C:\\Users\\Sean\\AppData\\Local\\Programs\\Python\\Python310\\lib\\site-packages\\keras\\src\\backend.py:1398: The name tf.executing_eagerly_outside_functions is deprecated. Please use tf.compat.v1.executing_eagerly_outside_functions instead.\n",
      "\n",
      "WARNING:tensorflow:From C:\\Users\\Sean\\AppData\\Local\\Programs\\Python\\Python310\\lib\\site-packages\\keras\\src\\optimizers\\__init__.py:309: The name tf.train.Optimizer is deprecated. Please use tf.compat.v1.train.Optimizer instead.\n",
      "\n",
      "Model: \"model\"\n",
      "__________________________________________________________________________________________________\n",
      " Layer (type)                Output Shape                 Param #   Connected to                  \n",
      "==================================================================================================\n",
      " shooter_input (InputLayer)  [(None, 1)]                  0         []                            \n",
      "                                                                                                  \n",
      " shooter_embedding (Embeddi  (None, 1, 50)                40450     ['shooter_input[0][0]']       \n",
      " ng)                                                                                              \n",
      "                                                                                                  \n",
      " shot_input (InputLayer)     [(None, 19)]                 0         []                            \n",
      "                                                                                                  \n",
      " flatten (Flatten)           (None, 50)                   0         ['shooter_embedding[0][0]']   \n",
      "                                                                                                  \n",
      " dense_1 (Dense)             (None, 16)                   320       ['shot_input[0][0]']          \n",
      "                                                                                                  \n",
      " dense (Dense)               (None, 1)                    51        ['flatten[0][0]']             \n",
      "                                                                                                  \n",
      " dense_2 (Dense)             (None, 8)                    136       ['dense_1[0][0]']             \n",
      "                                                                                                  \n",
      " concatenate (Concatenate)   (None, 9)                    0         ['dense[0][0]',               \n",
      "                                                                     'dense_2[0][0]']             \n",
      "                                                                                                  \n",
      " dense_3 (Dense)             (None, 1)                    10        ['concatenate[0][0]']         \n",
      "                                                                                                  \n",
      "==================================================================================================\n",
      "Total params: 40967 (160.03 KB)\n",
      "Trainable params: 40967 (160.03 KB)\n",
      "Non-trainable params: 0 (0.00 Byte)\n",
      "__________________________________________________________________________________________________\n",
      "Epoch 1/10\n",
      "WARNING:tensorflow:From C:\\Users\\Sean\\AppData\\Local\\Programs\\Python\\Python310\\lib\\site-packages\\keras\\src\\utils\\tf_utils.py:492: The name tf.ragged.RaggedTensorValue is deprecated. Please use tf.compat.v1.ragged.RaggedTensorValue instead.\n",
      "\n",
      "WARNING:tensorflow:From C:\\Users\\Sean\\AppData\\Local\\Programs\\Python\\Python310\\lib\\site-packages\\keras\\src\\engine\\base_layer_utils.py:384: The name tf.executing_eagerly_outside_functions is deprecated. Please use tf.compat.v1.executing_eagerly_outside_functions instead.\n",
      "\n",
      "1433/1433 [==============================] - 3s 1ms/step - loss: 0.3702 - accuracy: 0.8969\n",
      "Epoch 2/10\n",
      "1433/1433 [==============================] - 2s 1ms/step - loss: 0.3288 - accuracy: 0.8969\n",
      "Epoch 3/10\n",
      "1433/1433 [==============================] - 2s 1ms/step - loss: 0.3263 - accuracy: 0.8969\n",
      "Epoch 4/10\n",
      "1433/1433 [==============================] - 2s 1ms/step - loss: 0.3244 - accuracy: 0.8969\n",
      "Epoch 5/10\n",
      "1433/1433 [==============================] - 2s 1ms/step - loss: 0.3229 - accuracy: 0.8969\n",
      "Epoch 6/10\n",
      "1433/1433 [==============================] - 2s 1ms/step - loss: 0.3217 - accuracy: 0.8969\n",
      "Epoch 7/10\n",
      "1433/1433 [==============================] - 2s 1ms/step - loss: 0.3208 - accuracy: 0.8969\n",
      "Epoch 8/10\n",
      "1433/1433 [==============================] - 2s 1ms/step - loss: 0.3201 - accuracy: 0.8969\n",
      "Epoch 9/10\n",
      "1433/1433 [==============================] - 2s 1ms/step - loss: 0.3196 - accuracy: 0.8969\n",
      "Epoch 10/10\n",
      "1433/1433 [==============================] - 2s 1ms/step - loss: 0.3192 - accuracy: 0.8969\n"
     ]
    }
   ],
   "source": [
    "%run C:\\Users\\Sean\\Documents\\Projects\\hockey_proj\\ingest_scripts\\get_shot_embeddings_ind.py all_events24.csv 24"
   ]
  }
 ],
 "metadata": {
  "kernelspec": {
   "display_name": "Python 3 (ipykernel)",
   "language": "python",
   "name": "python3"
  },
  "language_info": {
   "codemirror_mode": {
    "name": "ipython",
    "version": 3
   },
   "file_extension": ".py",
   "mimetype": "text/x-python",
   "name": "python",
   "nbconvert_exporter": "python",
   "pygments_lexer": "ipython3",
   "version": "3.10.11"
  }
 },
 "nbformat": 4,
 "nbformat_minor": 5
}
