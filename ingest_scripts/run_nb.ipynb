{
 "cells": [
  {
   "cell_type": "code",
   "execution_count": 10,
   "id": "2aa7dbd6-9b74-43bc-a0db-f71ab0759628",
   "metadata": {},
   "outputs": [
    {
     "name": "stderr",
     "output_type": "stream",
     "text": [
      "C:\\Users\\Sean\\Documents\\Projects\\hockey_proj\\ingest_scripts\\get_shot_embeddings_ind.py:25: DtypeWarning: Columns (26,27,35,50,56,57,62,65,68,72,76,77,78,80,85,86,90,93,94,96,98,99,101,102,103,104,107,108,109,110,112,113,115,120,123,124,131,132,133,160,161,162) have mixed types. Specify dtype option on import or set low_memory=False.\n",
      "  \n"
     ]
    },
    {
     "name": "stdout",
     "output_type": "stream",
     "text": [
      "Model: \"model_6\"\n",
      "__________________________________________________________________________________________________\n",
      " Layer (type)                Output Shape                 Param #   Connected to                  \n",
      "==================================================================================================\n",
      " shooter_input (InputLayer)  [(None, 1)]                  0         []                            \n",
      "                                                                                                  \n",
      " shooter_embedding (Embeddi  (None, 1, 50)                34800     ['shooter_input[0][0]']       \n",
      " ng)                                                                                              \n",
      "                                                                                                  \n",
      " shot_input (InputLayer)     [(None, 30)]                 0         []                            \n",
      "                                                                                                  \n",
      " flatten_6 (Flatten)         (None, 50)                   0         ['shooter_embedding[0][0]']   \n",
      "                                                                                                  \n",
      " dense_25 (Dense)            (None, 16)                   496       ['shot_input[0][0]']          \n",
      "                                                                                                  \n",
      " dense_24 (Dense)            (None, 1)                    51        ['flatten_6[0][0]']           \n",
      "                                                                                                  \n",
      " dense_26 (Dense)            (None, 8)                    136       ['dense_25[0][0]']            \n",
      "                                                                                                  \n",
      " concatenate_6 (Concatenate  (None, 9)                    0         ['dense_24[0][0]',            \n",
      " )                                                                   'dense_26[0][0]']            \n",
      "                                                                                                  \n",
      " dense_27 (Dense)            (None, 1)                    10        ['concatenate_6[0][0]']       \n",
      "                                                                                                  \n",
      "==================================================================================================\n",
      "Total params: 35493 (138.64 KB)\n",
      "Trainable params: 35493 (138.64 KB)\n",
      "Non-trainable params: 0 (0.00 Byte)\n",
      "__________________________________________________________________________________________________\n",
      "Epoch 1/10\n",
      "732/732 [==============================] - 2s 1ms/step - loss: 0.6060 - accuracy: 0.7406\n",
      "Epoch 2/10\n",
      "732/732 [==============================] - 1s 1ms/step - loss: 0.4396 - accuracy: 0.8973\n",
      "Epoch 3/10\n",
      "732/732 [==============================] - 1s 1ms/step - loss: 0.3741 - accuracy: 0.8973\n",
      "Epoch 4/10\n",
      "732/732 [==============================] - 1s 1ms/step - loss: 0.3462 - accuracy: 0.8973\n",
      "Epoch 5/10\n",
      "732/732 [==============================] - 1s 1ms/step - loss: 0.3354 - accuracy: 0.8973\n",
      "Epoch 6/10\n",
      "732/732 [==============================] - 1s 1ms/step - loss: 0.3315 - accuracy: 0.8973\n",
      "Epoch 7/10\n",
      "732/732 [==============================] - 1s 1ms/step - loss: 0.3296 - accuracy: 0.8973\n",
      "Epoch 8/10\n",
      "732/732 [==============================] - 1s 1ms/step - loss: 0.3277 - accuracy: 0.8973\n",
      "Epoch 9/10\n",
      "732/732 [==============================] - 1s 1ms/step - loss: 0.3255 - accuracy: 0.8973\n",
      "Epoch 10/10\n",
      "732/732 [==============================] - 1s 1ms/step - loss: 0.3235 - accuracy: 0.8973\n"
     ]
    }
   ],
   "source": [
    "%run C:\\Users\\Sean\\Documents\\Projects\\hockey_proj\\ingest_scripts\\get_shot_embeddings_ind.py all_events24.csv 24"
   ]
  }
 ],
 "metadata": {
  "kernelspec": {
   "display_name": "Python 3 (ipykernel)",
   "language": "python",
   "name": "python3"
  },
  "language_info": {
   "codemirror_mode": {
    "name": "ipython",
    "version": 3
   },
   "file_extension": ".py",
   "mimetype": "text/x-python",
   "name": "python",
   "nbconvert_exporter": "python",
   "pygments_lexer": "ipython3",
   "version": "3.10.11"
  }
 },
 "nbformat": 4,
 "nbformat_minor": 5
}
